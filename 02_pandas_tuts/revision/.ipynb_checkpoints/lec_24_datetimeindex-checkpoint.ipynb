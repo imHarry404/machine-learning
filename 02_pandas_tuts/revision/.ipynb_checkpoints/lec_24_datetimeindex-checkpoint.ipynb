{
 "cells": [
  {
   "cell_type": "code",
   "execution_count": 1,
   "id": "4191838a",
   "metadata": {},
   "outputs": [],
   "source": [
    "import pandas as pd"
   ]
  },
  {
   "cell_type": "markdown",
   "id": "7edb0326",
   "metadata": {},
   "source": [
    "#### class pandas.DatetimeIndex(data=None, freq=<no_default>, tz=None, normalize=False, closed=None, ambiguous='raise', dayfirst=False, yearfirst=False, dtype=None, copy=False, name=None)[source]\n",
    "Immutable ndarray-like of datetime64 data.\n",
    "\n",
    "Represented internally as int64, and which can be boxed to Timestamp objects that are subclasses of datetime and carry metadata."
   ]
  },
  {
   "cell_type": "code",
   "execution_count": 2,
   "id": "e8371462",
   "metadata": {},
   "outputs": [
    {
     "data": {
      "text/html": [
       "<div>\n",
       "<style scoped>\n",
       "    .dataframe tbody tr th:only-of-type {\n",
       "        vertical-align: middle;\n",
       "    }\n",
       "\n",
       "    .dataframe tbody tr th {\n",
       "        vertical-align: top;\n",
       "    }\n",
       "\n",
       "    .dataframe thead th {\n",
       "        text-align: right;\n",
       "    }\n",
       "</style>\n",
       "<table border=\"1\" class=\"dataframe\">\n",
       "  <thead>\n",
       "    <tr style=\"text-align: right;\">\n",
       "      <th></th>\n",
       "      <th>date</th>\n",
       "      <th>rd</th>\n",
       "      <th>market</th>\n",
       "      <th>profit</th>\n",
       "    </tr>\n",
       "  </thead>\n",
       "  <tbody>\n",
       "    <tr>\n",
       "      <th>0</th>\n",
       "      <td>01-07-2019</td>\n",
       "      <td>5634678</td>\n",
       "      <td>87623</td>\n",
       "      <td>4356</td>\n",
       "    </tr>\n",
       "    <tr>\n",
       "      <th>1</th>\n",
       "      <td>02-07-2019</td>\n",
       "      <td>233446</td>\n",
       "      <td>23436</td>\n",
       "      <td>9883</td>\n",
       "    </tr>\n",
       "    <tr>\n",
       "      <th>2</th>\n",
       "      <td>03-07-2019</td>\n",
       "      <td>2345765</td>\n",
       "      <td>54832</td>\n",
       "      <td>5647</td>\n",
       "    </tr>\n",
       "    <tr>\n",
       "      <th>3</th>\n",
       "      <td>04-07-2019</td>\n",
       "      <td>3454476</td>\n",
       "      <td>34733</td>\n",
       "      <td>9752</td>\n",
       "    </tr>\n",
       "    <tr>\n",
       "      <th>4</th>\n",
       "      <td>05-07-2019</td>\n",
       "      <td>6776986</td>\n",
       "      <td>47226</td>\n",
       "      <td>5614</td>\n",
       "    </tr>\n",
       "    <tr>\n",
       "      <th>5</th>\n",
       "      <td>06-07-2019</td>\n",
       "      <td>23536</td>\n",
       "      <td>58352</td>\n",
       "      <td>7483</td>\n",
       "    </tr>\n",
       "    <tr>\n",
       "      <th>6</th>\n",
       "      <td>07-07-2019</td>\n",
       "      <td>777867</td>\n",
       "      <td>34734</td>\n",
       "      <td>5625</td>\n",
       "    </tr>\n",
       "    <tr>\n",
       "      <th>7</th>\n",
       "      <td>08-07-2019</td>\n",
       "      <td>346779</td>\n",
       "      <td>87976</td>\n",
       "      <td>2785</td>\n",
       "    </tr>\n",
       "    <tr>\n",
       "      <th>8</th>\n",
       "      <td>09-07-2019</td>\n",
       "      <td>34458</td>\n",
       "      <td>54676</td>\n",
       "      <td>6837</td>\n",
       "    </tr>\n",
       "    <tr>\n",
       "      <th>9</th>\n",
       "      <td>10-07-2019</td>\n",
       "      <td>232345</td>\n",
       "      <td>87436</td>\n",
       "      <td>4593</td>\n",
       "    </tr>\n",
       "  </tbody>\n",
       "</table>\n",
       "</div>"
      ],
      "text/plain": [
       "         date       rd  market  profit\n",
       "0  01-07-2019  5634678   87623    4356\n",
       "1  02-07-2019   233446   23436    9883\n",
       "2  03-07-2019  2345765   54832    5647\n",
       "3  04-07-2019  3454476   34733    9752\n",
       "4  05-07-2019  6776986   47226    5614\n",
       "5  06-07-2019    23536   58352    7483\n",
       "6  07-07-2019   777867   34734    5625\n",
       "7  08-07-2019   346779   87976    2785\n",
       "8  09-07-2019    34458   54676    6837\n",
       "9  10-07-2019   232345   87436    4593"
      ]
     },
     "execution_count": 2,
     "metadata": {},
     "output_type": "execute_result"
    }
   ],
   "source": [
    "df=pd.read_csv('lec_24_ka_csv_file.csv')\n",
    "df"
   ]
  },
  {
   "cell_type": "code",
   "execution_count": 3,
   "id": "121eae9f",
   "metadata": {},
   "outputs": [
    {
     "data": {
      "text/plain": [
       "date      object\n",
       "rd         int64\n",
       "market     int64\n",
       "profit     int64\n",
       "dtype: object"
      ]
     },
     "execution_count": 3,
     "metadata": {},
     "output_type": "execute_result"
    }
   ],
   "source": [
    "df.dtypes"
   ]
  },
  {
   "cell_type": "code",
   "execution_count": 4,
   "id": "37871633",
   "metadata": {},
   "outputs": [
    {
     "data": {
      "text/plain": [
       "str"
      ]
     },
     "execution_count": 4,
     "metadata": {},
     "output_type": "execute_result"
    }
   ],
   "source": [
    "type(df.date[0])"
   ]
  },
  {
   "cell_type": "code",
   "execution_count": 5,
   "id": "d0dba288",
   "metadata": {},
   "outputs": [
    {
     "data": {
      "text/html": [
       "<div>\n",
       "<style scoped>\n",
       "    .dataframe tbody tr th:only-of-type {\n",
       "        vertical-align: middle;\n",
       "    }\n",
       "\n",
       "    .dataframe tbody tr th {\n",
       "        vertical-align: top;\n",
       "    }\n",
       "\n",
       "    .dataframe thead th {\n",
       "        text-align: right;\n",
       "    }\n",
       "</style>\n",
       "<table border=\"1\" class=\"dataframe\">\n",
       "  <thead>\n",
       "    <tr style=\"text-align: right;\">\n",
       "      <th></th>\n",
       "      <th>date</th>\n",
       "      <th>rd</th>\n",
       "      <th>market</th>\n",
       "      <th>profit</th>\n",
       "    </tr>\n",
       "  </thead>\n",
       "  <tbody>\n",
       "    <tr>\n",
       "      <th>0</th>\n",
       "      <td>2019-01-07</td>\n",
       "      <td>5634678</td>\n",
       "      <td>87623</td>\n",
       "      <td>4356</td>\n",
       "    </tr>\n",
       "    <tr>\n",
       "      <th>1</th>\n",
       "      <td>2019-02-07</td>\n",
       "      <td>233446</td>\n",
       "      <td>23436</td>\n",
       "      <td>9883</td>\n",
       "    </tr>\n",
       "    <tr>\n",
       "      <th>2</th>\n",
       "      <td>2019-03-07</td>\n",
       "      <td>2345765</td>\n",
       "      <td>54832</td>\n",
       "      <td>5647</td>\n",
       "    </tr>\n",
       "    <tr>\n",
       "      <th>3</th>\n",
       "      <td>2019-04-07</td>\n",
       "      <td>3454476</td>\n",
       "      <td>34733</td>\n",
       "      <td>9752</td>\n",
       "    </tr>\n",
       "    <tr>\n",
       "      <th>4</th>\n",
       "      <td>2019-05-07</td>\n",
       "      <td>6776986</td>\n",
       "      <td>47226</td>\n",
       "      <td>5614</td>\n",
       "    </tr>\n",
       "    <tr>\n",
       "      <th>5</th>\n",
       "      <td>2019-06-07</td>\n",
       "      <td>23536</td>\n",
       "      <td>58352</td>\n",
       "      <td>7483</td>\n",
       "    </tr>\n",
       "    <tr>\n",
       "      <th>6</th>\n",
       "      <td>2019-07-07</td>\n",
       "      <td>777867</td>\n",
       "      <td>34734</td>\n",
       "      <td>5625</td>\n",
       "    </tr>\n",
       "    <tr>\n",
       "      <th>7</th>\n",
       "      <td>2019-08-07</td>\n",
       "      <td>346779</td>\n",
       "      <td>87976</td>\n",
       "      <td>2785</td>\n",
       "    </tr>\n",
       "    <tr>\n",
       "      <th>8</th>\n",
       "      <td>2019-09-07</td>\n",
       "      <td>34458</td>\n",
       "      <td>54676</td>\n",
       "      <td>6837</td>\n",
       "    </tr>\n",
       "    <tr>\n",
       "      <th>9</th>\n",
       "      <td>2019-10-07</td>\n",
       "      <td>232345</td>\n",
       "      <td>87436</td>\n",
       "      <td>4593</td>\n",
       "    </tr>\n",
       "  </tbody>\n",
       "</table>\n",
       "</div>"
      ],
      "text/plain": [
       "        date       rd  market  profit\n",
       "0 2019-01-07  5634678   87623    4356\n",
       "1 2019-02-07   233446   23436    9883\n",
       "2 2019-03-07  2345765   54832    5647\n",
       "3 2019-04-07  3454476   34733    9752\n",
       "4 2019-05-07  6776986   47226    5614\n",
       "5 2019-06-07    23536   58352    7483\n",
       "6 2019-07-07   777867   34734    5625\n",
       "7 2019-08-07   346779   87976    2785\n",
       "8 2019-09-07    34458   54676    6837\n",
       "9 2019-10-07   232345   87436    4593"
      ]
     },
     "execution_count": 5,
     "metadata": {},
     "output_type": "execute_result"
    }
   ],
   "source": [
    "df=pd.read_csv('lec_24_ka_csv_file.csv',parse_dates=['date'])\n",
    "df"
   ]
  },
  {
   "cell_type": "code",
   "execution_count": 6,
   "id": "477a7c58",
   "metadata": {},
   "outputs": [
    {
     "data": {
      "text/plain": [
       "date      datetime64[ns]\n",
       "rd                 int64\n",
       "market             int64\n",
       "profit             int64\n",
       "dtype: object"
      ]
     },
     "execution_count": 6,
     "metadata": {},
     "output_type": "execute_result"
    }
   ],
   "source": [
    "df.dtypes"
   ]
  },
  {
   "cell_type": "code",
   "execution_count": 7,
   "id": "9020f15b",
   "metadata": {},
   "outputs": [
    {
     "data": {
      "text/plain": [
       "pandas._libs.tslibs.timestamps.Timestamp"
      ]
     },
     "execution_count": 7,
     "metadata": {},
     "output_type": "execute_result"
    }
   ],
   "source": [
    "type(df.date[0])"
   ]
  },
  {
   "cell_type": "code",
   "execution_count": null,
   "id": "59197b03",
   "metadata": {},
   "outputs": [],
   "source": []
  }
 ],
 "metadata": {
  "kernelspec": {
   "display_name": "Python 3 (ipykernel)",
   "language": "python",
   "name": "python3"
  },
  "language_info": {
   "codemirror_mode": {
    "name": "ipython",
    "version": 3
   },
   "file_extension": ".py",
   "mimetype": "text/x-python",
   "name": "python",
   "nbconvert_exporter": "python",
   "pygments_lexer": "ipython3",
   "version": "3.9.6"
  }
 },
 "nbformat": 4,
 "nbformat_minor": 5
}
