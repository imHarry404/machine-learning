{
 "cells": [
  {
   "cell_type": "markdown",
   "id": "f9ad7465",
   "metadata": {},
   "source": [
    "### python data frame is 2d, size can be changed"
   ]
  },
  {
   "cell_type": "code",
   "execution_count": 1,
   "id": "f9cc218b",
   "metadata": {},
   "outputs": [],
   "source": [
    "import pandas as pd"
   ]
  },
  {
   "cell_type": "markdown",
   "id": "68247ab2",
   "metadata": {},
   "source": [
    "#### how to create DF"
   ]
  },
  {
   "cell_type": "code",
   "execution_count": 2,
   "id": "9666dee5",
   "metadata": {},
   "outputs": [
    {
     "name": "stdout",
     "output_type": "stream",
     "text": [
      "Empty DataFrame\n",
      "Columns: []\n",
      "Index: []\n"
     ]
    }
   ],
   "source": [
    "emp_df=pd.DataFrame()\n",
    "print(emp_df)"
   ]
  },
  {
   "cell_type": "markdown",
   "id": "0d460891",
   "metadata": {},
   "source": [
    "### df using list"
   ]
  },
  {
   "cell_type": "code",
   "execution_count": 3,
   "id": "f1c2d378",
   "metadata": {},
   "outputs": [
    {
     "name": "stdout",
     "output_type": "stream",
     "text": [
      "        0\n",
      "0   harry\n",
      "1   mohak\n",
      "2  nitish\n",
      "3   ronik\n"
     ]
    }
   ],
   "source": [
    "list_df=pd.DataFrame(['harry','mohak','nitish','ronik'])\n",
    "print(list_df)"
   ]
  },
  {
   "cell_type": "code",
   "execution_count": 4,
   "id": "e3208a03",
   "metadata": {
    "scrolled": true
   },
   "outputs": [
    {
     "data": {
      "text/html": [
       "<div>\n",
       "<style scoped>\n",
       "    .dataframe tbody tr th:only-of-type {\n",
       "        vertical-align: middle;\n",
       "    }\n",
       "\n",
       "    .dataframe tbody tr th {\n",
       "        vertical-align: top;\n",
       "    }\n",
       "\n",
       "    .dataframe thead th {\n",
       "        text-align: right;\n",
       "    }\n",
       "</style>\n",
       "<table border=\"1\" class=\"dataframe\">\n",
       "  <thead>\n",
       "    <tr style=\"text-align: right;\">\n",
       "      <th></th>\n",
       "      <th>0</th>\n",
       "    </tr>\n",
       "  </thead>\n",
       "  <tbody>\n",
       "    <tr>\n",
       "      <th>0</th>\n",
       "      <td>harry</td>\n",
       "    </tr>\n",
       "    <tr>\n",
       "      <th>1</th>\n",
       "      <td>mohak</td>\n",
       "    </tr>\n",
       "    <tr>\n",
       "      <th>2</th>\n",
       "      <td>nitish</td>\n",
       "    </tr>\n",
       "    <tr>\n",
       "      <th>3</th>\n",
       "      <td>ronik</td>\n",
       "    </tr>\n",
       "  </tbody>\n",
       "</table>\n",
       "</div>"
      ],
      "text/plain": [
       "        0\n",
       "0   harry\n",
       "1   mohak\n",
       "2  nitish\n",
       "3   ronik"
      ]
     },
     "execution_count": 4,
     "metadata": {},
     "output_type": "execute_result"
    }
   ],
   "source": [
    "list_df "
   ]
  },
  {
   "cell_type": "code",
   "execution_count": 5,
   "id": "dd4a81fd",
   "metadata": {},
   "outputs": [
    {
     "name": "stdout",
     "output_type": "stream",
     "text": [
      "[[1, 2, 4], [45, 23, 67], ['mohak', 'nitish', 'ronik']]\n"
     ]
    }
   ],
   "source": [
    "ls_of_ls=[[1,2,4],[45,23,67],['mohak','nitish','ronik']]\n",
    "print(ls_of_ls)"
   ]
  },
  {
   "cell_type": "code",
   "execution_count": 6,
   "id": "63bd058e",
   "metadata": {},
   "outputs": [],
   "source": [
    "ls_of_ls_df=pd.DataFrame(ls_of_ls)"
   ]
  },
  {
   "cell_type": "code",
   "execution_count": 7,
   "id": "faf11db8",
   "metadata": {},
   "outputs": [
    {
     "data": {
      "text/html": [
       "<div>\n",
       "<style scoped>\n",
       "    .dataframe tbody tr th:only-of-type {\n",
       "        vertical-align: middle;\n",
       "    }\n",
       "\n",
       "    .dataframe tbody tr th {\n",
       "        vertical-align: top;\n",
       "    }\n",
       "\n",
       "    .dataframe thead th {\n",
       "        text-align: right;\n",
       "    }\n",
       "</style>\n",
       "<table border=\"1\" class=\"dataframe\">\n",
       "  <thead>\n",
       "    <tr style=\"text-align: right;\">\n",
       "      <th></th>\n",
       "      <th>0</th>\n",
       "      <th>1</th>\n",
       "      <th>2</th>\n",
       "    </tr>\n",
       "  </thead>\n",
       "  <tbody>\n",
       "    <tr>\n",
       "      <th>0</th>\n",
       "      <td>1</td>\n",
       "      <td>2</td>\n",
       "      <td>4</td>\n",
       "    </tr>\n",
       "    <tr>\n",
       "      <th>1</th>\n",
       "      <td>45</td>\n",
       "      <td>23</td>\n",
       "      <td>67</td>\n",
       "    </tr>\n",
       "    <tr>\n",
       "      <th>2</th>\n",
       "      <td>mohak</td>\n",
       "      <td>nitish</td>\n",
       "      <td>ronik</td>\n",
       "    </tr>\n",
       "  </tbody>\n",
       "</table>\n",
       "</div>"
      ],
      "text/plain": [
       "       0       1      2\n",
       "0      1       2      4\n",
       "1     45      23     67\n",
       "2  mohak  nitish  ronik"
      ]
     },
     "execution_count": 7,
     "metadata": {},
     "output_type": "execute_result"
    }
   ],
   "source": [
    "ls_of_ls_df"
   ]
  },
  {
   "cell_type": "code",
   "execution_count": 8,
   "id": "d100a65f",
   "metadata": {},
   "outputs": [
    {
     "name": "stdout",
     "output_type": "stream",
     "text": [
      "[[1, 2, 4], [45, 23, 67], ['mohak', 'nitish', 'ronik', 'hariom']]\n"
     ]
    }
   ],
   "source": [
    "ls_of_ls=[[1,2,4],[45,23,67],['mohak','nitish','ronik','hariom']]\n",
    "print(ls_of_ls)"
   ]
  },
  {
   "cell_type": "code",
   "execution_count": 9,
   "id": "7905fbec",
   "metadata": {},
   "outputs": [
    {
     "data": {
      "text/html": [
       "<div>\n",
       "<style scoped>\n",
       "    .dataframe tbody tr th:only-of-type {\n",
       "        vertical-align: middle;\n",
       "    }\n",
       "\n",
       "    .dataframe tbody tr th {\n",
       "        vertical-align: top;\n",
       "    }\n",
       "\n",
       "    .dataframe thead th {\n",
       "        text-align: right;\n",
       "    }\n",
       "</style>\n",
       "<table border=\"1\" class=\"dataframe\">\n",
       "  <thead>\n",
       "    <tr style=\"text-align: right;\">\n",
       "      <th></th>\n",
       "      <th>0</th>\n",
       "      <th>1</th>\n",
       "      <th>2</th>\n",
       "      <th>3</th>\n",
       "    </tr>\n",
       "  </thead>\n",
       "  <tbody>\n",
       "    <tr>\n",
       "      <th>0</th>\n",
       "      <td>1</td>\n",
       "      <td>2</td>\n",
       "      <td>4</td>\n",
       "      <td>None</td>\n",
       "    </tr>\n",
       "    <tr>\n",
       "      <th>1</th>\n",
       "      <td>45</td>\n",
       "      <td>23</td>\n",
       "      <td>67</td>\n",
       "      <td>None</td>\n",
       "    </tr>\n",
       "    <tr>\n",
       "      <th>2</th>\n",
       "      <td>mohak</td>\n",
       "      <td>nitish</td>\n",
       "      <td>ronik</td>\n",
       "      <td>hariom</td>\n",
       "    </tr>\n",
       "  </tbody>\n",
       "</table>\n",
       "</div>"
      ],
      "text/plain": [
       "       0       1      2       3\n",
       "0      1       2      4    None\n",
       "1     45      23     67    None\n",
       "2  mohak  nitish  ronik  hariom"
      ]
     },
     "execution_count": 9,
     "metadata": {},
     "output_type": "execute_result"
    }
   ],
   "source": [
    "ls_of_ls_df=pd.DataFrame(ls_of_ls)\n",
    "ls_of_ls_df #for empty values it will print none"
   ]
  },
  {
   "cell_type": "markdown",
   "id": "ca317038",
   "metadata": {},
   "source": [
    "#### DF using dict"
   ]
  },
  {
   "cell_type": "code",
   "execution_count": 10,
   "id": "62f29fae",
   "metadata": {},
   "outputs": [
    {
     "name": "stdout",
     "output_type": "stream",
     "text": [
      "{'id': [1, 2, 3, 4, 5], 'value': ['hariom', 'nitish', 'ronik', 'mohak', 'dimpy']}\n"
     ]
    }
   ],
   "source": [
    "dict_d={'id':[1,2,3,4,5],\"value\":[\"hariom\",\"nitish\",\"ronik\",\"mohak\",\"dimpy\"]}\n",
    "print(dict_d)"
   ]
  },
  {
   "cell_type": "code",
   "execution_count": 11,
   "id": "1cf42595",
   "metadata": {},
   "outputs": [],
   "source": [
    "dict_df=pd.DataFrame(dict_d)\n"
   ]
  },
  {
   "cell_type": "code",
   "execution_count": 12,
   "id": "437ee79a",
   "metadata": {},
   "outputs": [
    {
     "data": {
      "text/html": [
       "<div>\n",
       "<style scoped>\n",
       "    .dataframe tbody tr th:only-of-type {\n",
       "        vertical-align: middle;\n",
       "    }\n",
       "\n",
       "    .dataframe tbody tr th {\n",
       "        vertical-align: top;\n",
       "    }\n",
       "\n",
       "    .dataframe thead th {\n",
       "        text-align: right;\n",
       "    }\n",
       "</style>\n",
       "<table border=\"1\" class=\"dataframe\">\n",
       "  <thead>\n",
       "    <tr style=\"text-align: right;\">\n",
       "      <th></th>\n",
       "      <th>id</th>\n",
       "      <th>value</th>\n",
       "    </tr>\n",
       "  </thead>\n",
       "  <tbody>\n",
       "    <tr>\n",
       "      <th>0</th>\n",
       "      <td>1</td>\n",
       "      <td>hariom</td>\n",
       "    </tr>\n",
       "    <tr>\n",
       "      <th>1</th>\n",
       "      <td>2</td>\n",
       "      <td>nitish</td>\n",
       "    </tr>\n",
       "    <tr>\n",
       "      <th>2</th>\n",
       "      <td>3</td>\n",
       "      <td>ronik</td>\n",
       "    </tr>\n",
       "    <tr>\n",
       "      <th>3</th>\n",
       "      <td>4</td>\n",
       "      <td>mohak</td>\n",
       "    </tr>\n",
       "    <tr>\n",
       "      <th>4</th>\n",
       "      <td>5</td>\n",
       "      <td>dimpy</td>\n",
       "    </tr>\n",
       "  </tbody>\n",
       "</table>\n",
       "</div>"
      ],
      "text/plain": [
       "   id   value\n",
       "0   1  hariom\n",
       "1   2  nitish\n",
       "2   3   ronik\n",
       "3   4   mohak\n",
       "4   5   dimpy"
      ]
     },
     "execution_count": 12,
     "metadata": {},
     "output_type": "execute_result"
    }
   ],
   "source": [
    "dict_df"
   ]
  },
  {
   "cell_type": "markdown",
   "id": "18b66721",
   "metadata": {},
   "source": [
    "####  df using list of dict"
   ]
  },
  {
   "cell_type": "code",
   "execution_count": 13,
   "id": "32b8bc8b",
   "metadata": {},
   "outputs": [
    {
     "name": "stdout",
     "output_type": "stream",
     "text": [
      "[{'a': 1, 'b': 2}, {'a': 3, 'b': 4}]\n"
     ]
    }
   ],
   "source": [
    "ls_dict=[{\"a\":1,\"b\":2},{\"a\":3,\"b\":4}]\n",
    "print(ls_dict)"
   ]
  },
  {
   "cell_type": "code",
   "execution_count": 14,
   "id": "44082b55",
   "metadata": {},
   "outputs": [],
   "source": [
    "ls_dict_df=pd.DataFrame(ls_dict)\n"
   ]
  },
  {
   "cell_type": "code",
   "execution_count": 16,
   "id": "12d56272",
   "metadata": {},
   "outputs": [
    {
     "data": {
      "text/html": [
       "<div>\n",
       "<style scoped>\n",
       "    .dataframe tbody tr th:only-of-type {\n",
       "        vertical-align: middle;\n",
       "    }\n",
       "\n",
       "    .dataframe tbody tr th {\n",
       "        vertical-align: top;\n",
       "    }\n",
       "\n",
       "    .dataframe thead th {\n",
       "        text-align: right;\n",
       "    }\n",
       "</style>\n",
       "<table border=\"1\" class=\"dataframe\">\n",
       "  <thead>\n",
       "    <tr style=\"text-align: right;\">\n",
       "      <th></th>\n",
       "      <th>a</th>\n",
       "      <th>b</th>\n",
       "    </tr>\n",
       "  </thead>\n",
       "  <tbody>\n",
       "    <tr>\n",
       "      <th>0</th>\n",
       "      <td>1</td>\n",
       "      <td>2</td>\n",
       "    </tr>\n",
       "    <tr>\n",
       "      <th>1</th>\n",
       "      <td>3</td>\n",
       "      <td>4</td>\n",
       "    </tr>\n",
       "  </tbody>\n",
       "</table>\n",
       "</div>"
      ],
      "text/plain": [
       "   a  b\n",
       "0  1  2\n",
       "1  3  4"
      ]
     },
     "execution_count": 16,
     "metadata": {},
     "output_type": "execute_result"
    }
   ],
   "source": [
    "ls_dict_df"
   ]
  },
  {
   "cell_type": "code",
   "execution_count": 17,
   "id": "e43f1028",
   "metadata": {},
   "outputs": [
    {
     "name": "stdout",
     "output_type": "stream",
     "text": [
      "[{'a': 1, 'b': 2}, {'c': 3, 'd': 4}]\n"
     ]
    }
   ],
   "source": [
    "ls_dict=[{\"a\":1,\"b\":2},{\"c\":3,\"d\":4}]\n",
    "print(ls_dict)"
   ]
  },
  {
   "cell_type": "code",
   "execution_count": 18,
   "id": "04bac7a4",
   "metadata": {},
   "outputs": [],
   "source": [
    "ls_dict_df=pd.DataFrame(ls_dict)"
   ]
  },
  {
   "cell_type": "markdown",
   "id": "25db397c",
   "metadata": {},
   "source": [
    "### if values are not same it will give nan"
   ]
  },
  {
   "cell_type": "code",
   "execution_count": 20,
   "id": "7ee8a88a",
   "metadata": {},
   "outputs": [
    {
     "data": {
      "text/html": [
       "<div>\n",
       "<style scoped>\n",
       "    .dataframe tbody tr th:only-of-type {\n",
       "        vertical-align: middle;\n",
       "    }\n",
       "\n",
       "    .dataframe tbody tr th {\n",
       "        vertical-align: top;\n",
       "    }\n",
       "\n",
       "    .dataframe thead th {\n",
       "        text-align: right;\n",
       "    }\n",
       "</style>\n",
       "<table border=\"1\" class=\"dataframe\">\n",
       "  <thead>\n",
       "    <tr style=\"text-align: right;\">\n",
       "      <th></th>\n",
       "      <th>a</th>\n",
       "      <th>b</th>\n",
       "      <th>c</th>\n",
       "      <th>d</th>\n",
       "    </tr>\n",
       "  </thead>\n",
       "  <tbody>\n",
       "    <tr>\n",
       "      <th>0</th>\n",
       "      <td>1.0</td>\n",
       "      <td>2.0</td>\n",
       "      <td>NaN</td>\n",
       "      <td>NaN</td>\n",
       "    </tr>\n",
       "    <tr>\n",
       "      <th>1</th>\n",
       "      <td>NaN</td>\n",
       "      <td>NaN</td>\n",
       "      <td>3.0</td>\n",
       "      <td>4.0</td>\n",
       "    </tr>\n",
       "  </tbody>\n",
       "</table>\n",
       "</div>"
      ],
      "text/plain": [
       "     a    b    c    d\n",
       "0  1.0  2.0  NaN  NaN\n",
       "1  NaN  NaN  3.0  4.0"
      ]
     },
     "execution_count": 20,
     "metadata": {},
     "output_type": "execute_result"
    }
   ],
   "source": [
    "ls_dict_df"
   ]
  },
  {
   "cell_type": "markdown",
   "id": "afe59bfe",
   "metadata": {},
   "source": [
    "### DF using dict of series"
   ]
  },
  {
   "cell_type": "code",
   "execution_count": 23,
   "id": "5e69eb6f",
   "metadata": {},
   "outputs": [
    {
     "data": {
      "text/plain": [
       "{'id': 0    1\n",
       " 1    2\n",
       " 2    4\n",
       " dtype: int64,\n",
       " 'sn': 0    111\n",
       " 1    222\n",
       " 2    333\n",
       " dtype: int64}"
      ]
     },
     "execution_count": 23,
     "metadata": {},
     "output_type": "execute_result"
    }
   ],
   "source": [
    "dict_se={'id':pd.Series([1,2,4]),'sn':pd.Series([111,222,333])}\n",
    "dict_se"
   ]
  },
  {
   "cell_type": "code",
   "execution_count": 24,
   "id": "60bf92c3",
   "metadata": {},
   "outputs": [],
   "source": [
    "dict_se_df=pd.DataFrame(dict_se)"
   ]
  },
  {
   "cell_type": "code",
   "execution_count": 25,
   "id": "cb43d029",
   "metadata": {},
   "outputs": [
    {
     "data": {
      "text/html": [
       "<div>\n",
       "<style scoped>\n",
       "    .dataframe tbody tr th:only-of-type {\n",
       "        vertical-align: middle;\n",
       "    }\n",
       "\n",
       "    .dataframe tbody tr th {\n",
       "        vertical-align: top;\n",
       "    }\n",
       "\n",
       "    .dataframe thead th {\n",
       "        text-align: right;\n",
       "    }\n",
       "</style>\n",
       "<table border=\"1\" class=\"dataframe\">\n",
       "  <thead>\n",
       "    <tr style=\"text-align: right;\">\n",
       "      <th></th>\n",
       "      <th>id</th>\n",
       "      <th>sn</th>\n",
       "    </tr>\n",
       "  </thead>\n",
       "  <tbody>\n",
       "    <tr>\n",
       "      <th>0</th>\n",
       "      <td>1</td>\n",
       "      <td>111</td>\n",
       "    </tr>\n",
       "    <tr>\n",
       "      <th>1</th>\n",
       "      <td>2</td>\n",
       "      <td>222</td>\n",
       "    </tr>\n",
       "    <tr>\n",
       "      <th>2</th>\n",
       "      <td>4</td>\n",
       "      <td>333</td>\n",
       "    </tr>\n",
       "  </tbody>\n",
       "</table>\n",
       "</div>"
      ],
      "text/plain": [
       "   id   sn\n",
       "0   1  111\n",
       "1   2  222\n",
       "2   4  333"
      ]
     },
     "execution_count": 25,
     "metadata": {},
     "output_type": "execute_result"
    }
   ],
   "source": [
    "dict_se_df"
   ]
  },
  {
   "cell_type": "code",
   "execution_count": null,
   "id": "b4482570",
   "metadata": {},
   "outputs": [],
   "source": []
  }
 ],
 "metadata": {
  "kernelspec": {
   "display_name": "Python 3 (ipykernel)",
   "language": "python",
   "name": "python3"
  },
  "language_info": {
   "codemirror_mode": {
    "name": "ipython",
    "version": 3
   },
   "file_extension": ".py",
   "mimetype": "text/x-python",
   "name": "python",
   "nbconvert_exporter": "python",
   "pygments_lexer": "ipython3",
   "version": "3.9.6"
  }
 },
 "nbformat": 4,
 "nbformat_minor": 5
}
