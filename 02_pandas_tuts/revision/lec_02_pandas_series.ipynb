{
 "cells": [
  {
   "cell_type": "code",
   "execution_count": 1,
   "id": "b2f83a9a",
   "metadata": {},
   "outputs": [],
   "source": [
    "import pandas as pd"
   ]
  },
  {
   "cell_type": "code",
   "execution_count": 2,
   "id": "09c96e61",
   "metadata": {},
   "outputs": [
    {
     "data": {
      "text/plain": [
       "'1.3.0'"
      ]
     },
     "execution_count": 2,
     "metadata": {},
     "output_type": "execute_result"
    }
   ],
   "source": [
    "pd.__version__"
   ]
  },
  {
   "cell_type": "code",
   "execution_count": 3,
   "id": "41e38eaa",
   "metadata": {},
   "outputs": [
    {
     "name": "stdout",
     "output_type": "stream",
     "text": [
      "[1, 2, 5.6, 'harry']\n"
     ]
    }
   ],
   "source": [
    "list_s=[1,2,5.6,'harry']\n",
    "print(list_s)"
   ]
  },
  {
   "cell_type": "code",
   "execution_count": 4,
   "id": "4608a382",
   "metadata": {},
   "outputs": [
    {
     "name": "stdout",
     "output_type": "stream",
     "text": [
      "0        1\n",
      "1        2\n",
      "2      5.6\n",
      "3    harry\n",
      "dtype: object\n"
     ]
    }
   ],
   "source": [
    "series1= pd.Series(list_s)\n",
    "print(series1)"
   ]
  },
  {
   "cell_type": "code",
   "execution_count": 5,
   "id": "00cd56da",
   "metadata": {},
   "outputs": [
    {
     "data": {
      "text/plain": [
       "pandas.core.series.Series"
      ]
     },
     "execution_count": 5,
     "metadata": {},
     "output_type": "execute_result"
    }
   ],
   "source": [
    "type(series1)"
   ]
  },
  {
   "cell_type": "code",
   "execution_count": 6,
   "id": "9ae1a5e1",
   "metadata": {},
   "outputs": [
    {
     "name": "stdout",
     "output_type": "stream",
     "text": [
      "0       1\n",
      "1       2\n",
      "2      43\n",
      "3       6\n",
      "4      ok\n",
      "5    this\n",
      "6       6\n",
      "dtype: object\n"
     ]
    },
    {
     "data": {
      "text/plain": [
       "pandas.core.series.Series"
      ]
     },
     "execution_count": 6,
     "metadata": {},
     "output_type": "execute_result"
    }
   ],
   "source": [
    "series2=pd.Series([1,2,43,6,'ok','this',6])\n",
    "print(series2)\n",
    "type(series2)"
   ]
  },
  {
   "cell_type": "markdown",
   "id": "9b27a451",
   "metadata": {},
   "source": [
    "### creating empty series"
   ]
  },
  {
   "cell_type": "code",
   "execution_count": 7,
   "id": "c1ec9dbe",
   "metadata": {},
   "outputs": [
    {
     "name": "stdout",
     "output_type": "stream",
     "text": [
      "Series([], dtype: float64)\n"
     ]
    },
    {
     "name": "stderr",
     "output_type": "stream",
     "text": [
      "C:\\Users\\hario\\AppData\\Local\\Temp/ipykernel_16296/400062453.py:1: DeprecationWarning: The default dtype for empty Series will be 'object' instead of 'float64' in a future version. Specify a dtype explicitly to silence this warning.\n",
      "  empty_s=pd.Series([])\n"
     ]
    },
    {
     "data": {
      "text/plain": [
       "pandas.core.series.Series"
      ]
     },
     "execution_count": 7,
     "metadata": {},
     "output_type": "execute_result"
    }
   ],
   "source": [
    "empty_s=pd.Series([])\n",
    "print(empty_s)\n",
    "type(empty_s)"
   ]
  },
  {
   "cell_type": "code",
   "execution_count": 8,
   "id": "f097efae",
   "metadata": {},
   "outputs": [
    {
     "data": {
      "text/plain": [
       "0       1\n",
       "1       2\n",
       "2      43\n",
       "3       6\n",
       "4      ok\n",
       "5    this\n",
       "6       6\n",
       "dtype: object"
      ]
     },
     "execution_count": 8,
     "metadata": {},
     "output_type": "execute_result"
    }
   ],
   "source": [
    "series2"
   ]
  },
  {
   "cell_type": "markdown",
   "id": "95507c52",
   "metadata": {},
   "source": [
    "#### manually index for the series\n",
    "no of index must be equal to no of values"
   ]
  },
  {
   "cell_type": "code",
   "execution_count": 9,
   "id": "ed9a2493",
   "metadata": {},
   "outputs": [
    {
     "name": "stdout",
     "output_type": "stream",
     "text": [
      "A       1\n",
      "B       2\n",
      "C      43\n",
      "D       6\n",
      "E      ok\n",
      "F    this\n",
      "G       6\n",
      "dtype: object\n"
     ]
    },
    {
     "data": {
      "text/plain": [
       "pandas.core.series.Series"
      ]
     },
     "execution_count": 9,
     "metadata": {},
     "output_type": "execute_result"
    }
   ],
   "source": [
    "series2=pd.Series([1,2,43,6,'ok','this',6],index=[\"A\",\"B\",\"C\",\"D\",\"E\",\"F\",\"G\"])\n",
    "print(series2)\n",
    "type(series2)"
   ]
  },
  {
   "cell_type": "markdown",
   "id": "664a06c4",
   "metadata": {},
   "source": [
    "#### changing the dtype"
   ]
  },
  {
   "cell_type": "code",
   "execution_count": 10,
   "id": "47485d9f",
   "metadata": {},
   "outputs": [
    {
     "name": "stdout",
     "output_type": "stream",
     "text": [
      "0     1.0\n",
      "1     2.0\n",
      "2    43.0\n",
      "3     6.0\n",
      "dtype: float64\n"
     ]
    },
    {
     "data": {
      "text/plain": [
       "pandas.core.series.Series"
      ]
     },
     "execution_count": 10,
     "metadata": {},
     "output_type": "execute_result"
    }
   ],
   "source": [
    "series2=pd.Series([1,2,43,6],dtype=float)\n",
    "print(series2)\n",
    "type(series2)"
   ]
  },
  {
   "cell_type": "markdown",
   "id": "db2a1a91",
   "metadata": {},
   "source": [
    "#### name for the Series"
   ]
  },
  {
   "cell_type": "code",
   "execution_count": 11,
   "id": "2f1f0ed6",
   "metadata": {},
   "outputs": [
    {
     "name": "stdout",
     "output_type": "stream",
     "text": [
      "0     1.0\n",
      "1     2.0\n",
      "2    43.0\n",
      "3     6.0\n",
      "Name: harry, dtype: float64\n"
     ]
    },
    {
     "data": {
      "text/plain": [
       "pandas.core.series.Series"
      ]
     },
     "execution_count": 11,
     "metadata": {},
     "output_type": "execute_result"
    }
   ],
   "source": [
    "series2=pd.Series([1,2,43,6],dtype=float,name=\"harry\")\n",
    "print(series2)\n",
    "type(series2)"
   ]
  },
  {
   "cell_type": "markdown",
   "id": "37b68cf0",
   "metadata": {},
   "source": [
    "#### creating series using scalar values"
   ]
  },
  {
   "cell_type": "code",
   "execution_count": 14,
   "id": "20551f81",
   "metadata": {},
   "outputs": [
    {
     "name": "stdout",
     "output_type": "stream",
     "text": [
      "0    0.5\n",
      "dtype: float64\n"
     ]
    }
   ],
   "source": [
    "scalar_s=pd.Series(0.5)\n",
    "print(scalar_s)"
   ]
  },
  {
   "cell_type": "code",
   "execution_count": 17,
   "id": "2dc5574b",
   "metadata": {},
   "outputs": [
    {
     "name": "stdout",
     "output_type": "stream",
     "text": [
      "a    0.5\n",
      "b    0.5\n",
      "c    0.5\n",
      "d    0.5\n",
      "e    0.5\n",
      "dtype: float64\n"
     ]
    }
   ],
   "source": [
    "scalar_s=pd.Series(0.5,index=['a','b','c','d','e'])\n",
    "print(scalar_s)"
   ]
  },
  {
   "cell_type": "markdown",
   "id": "1ca46c8d",
   "metadata": {},
   "source": [
    "##### series using dictionary"
   ]
  },
  {
   "cell_type": "code",
   "execution_count": 19,
   "id": "d69d3b65",
   "metadata": {},
   "outputs": [
    {
     "name": "stdout",
     "output_type": "stream",
     "text": [
      "1      my\n",
      "2    name\n",
      "dtype: object\n"
     ]
    },
    {
     "data": {
      "text/plain": [
       "pandas.core.series.Series"
      ]
     },
     "execution_count": 19,
     "metadata": {},
     "output_type": "execute_result"
    }
   ],
   "source": [
    "dict_s=pd.Series({\"1\":\"my\",'2':'name'})\n",
    "print(dict_s)\n",
    "type(dict_s)"
   ]
  },
  {
   "cell_type": "markdown",
   "id": "f8ccc1b2",
   "metadata": {},
   "source": [
    "##### series using numpy array"
   ]
  },
  {
   "cell_type": "code",
   "execution_count": 21,
   "id": "b1c33e39",
   "metadata": {},
   "outputs": [
    {
     "name": "stdout",
     "output_type": "stream",
     "text": [
      "0    1\n",
      "1    2\n",
      "2    3\n",
      "3    4\n",
      "4    5\n",
      "dtype: int64\n"
     ]
    }
   ],
   "source": [
    "s1=pd.Series([1,2,3,4,5])\n",
    "print(s1)"
   ]
  },
  {
   "cell_type": "markdown",
   "id": "b1da4c5a",
   "metadata": {},
   "source": [
    "###### accessing the series"
   ]
  },
  {
   "cell_type": "code",
   "execution_count": 22,
   "id": "498731bb",
   "metadata": {},
   "outputs": [
    {
     "data": {
      "text/plain": [
       "1"
      ]
     },
     "execution_count": 22,
     "metadata": {},
     "output_type": "execute_result"
    }
   ],
   "source": [
    "s1[0]"
   ]
  },
  {
   "cell_type": "markdown",
   "id": "1f4ed2fc",
   "metadata": {},
   "source": [
    "##### slicing the series"
   ]
  },
  {
   "cell_type": "code",
   "execution_count": 23,
   "id": "5be4369d",
   "metadata": {},
   "outputs": [
    {
     "data": {
      "text/plain": [
       "0    1\n",
       "1    2\n",
       "dtype: int64"
      ]
     },
     "execution_count": 23,
     "metadata": {},
     "output_type": "execute_result"
    }
   ],
   "source": [
    "s1[:2]"
   ]
  },
  {
   "cell_type": "markdown",
   "id": "213f0b22",
   "metadata": {},
   "source": [
    "### acessing series using condition"
   ]
  },
  {
   "cell_type": "code",
   "execution_count": 24,
   "id": "9fca714a",
   "metadata": {},
   "outputs": [
    {
     "data": {
      "text/plain": [
       "3    4\n",
       "4    5\n",
       "dtype: int64"
      ]
     },
     "execution_count": 24,
     "metadata": {},
     "output_type": "execute_result"
    }
   ],
   "source": [
    "s1[s1>3]"
   ]
  },
  {
   "cell_type": "code",
   "execution_count": 25,
   "id": "463ecda1",
   "metadata": {},
   "outputs": [
    {
     "data": {
      "text/plain": [
       "0    1\n",
       "1    2\n",
       "2    3\n",
       "dtype: int64"
      ]
     },
     "execution_count": 25,
     "metadata": {},
     "output_type": "execute_result"
    }
   ],
   "source": [
    "s1[s1<=3]"
   ]
  },
  {
   "cell_type": "markdown",
   "id": "1de80749",
   "metadata": {},
   "source": [
    "   #### mathematical operations on Series"
   ]
  },
  {
   "cell_type": "code",
   "execution_count": 27,
   "id": "2635e6e9",
   "metadata": {},
   "outputs": [
    {
     "name": "stdout",
     "output_type": "stream",
     "text": [
      "0    6\n",
      "1    7\n",
      "2    8\n",
      "3    8\n",
      "4    2\n",
      "5    3\n",
      "6    4\n",
      "dtype: int64\n"
     ]
    }
   ],
   "source": [
    "s2=pd.Series([6,7,8,8,2,3,4])\n",
    "print(s2)"
   ]
  },
  {
   "cell_type": "code",
   "execution_count": 28,
   "id": "d3595586",
   "metadata": {},
   "outputs": [
    {
     "data": {
      "text/plain": [
       "0    1\n",
       "1    2\n",
       "2    3\n",
       "3    4\n",
       "4    5\n",
       "dtype: int64"
      ]
     },
     "execution_count": 28,
     "metadata": {},
     "output_type": "execute_result"
    }
   ],
   "source": [
    "s1"
   ]
  },
  {
   "cell_type": "code",
   "execution_count": 29,
   "id": "881dd547",
   "metadata": {},
   "outputs": [
    {
     "data": {
      "text/plain": [
       "0     7.0\n",
       "1     9.0\n",
       "2    11.0\n",
       "3    12.0\n",
       "4     7.0\n",
       "5     NaN\n",
       "6     NaN\n",
       "dtype: float64"
      ]
     },
     "execution_count": 29,
     "metadata": {},
     "output_type": "execute_result"
    }
   ],
   "source": [
    "s1+s2"
   ]
  },
  {
   "cell_type": "markdown",
   "id": "4ec9f3b6",
   "metadata": {},
   "source": [
    "### nan means that both series have unequal data values"
   ]
  },
  {
   "cell_type": "code",
   "execution_count": 30,
   "id": "fd4c947a",
   "metadata": {},
   "outputs": [
    {
     "data": {
      "text/plain": [
       "0     9\n",
       "1     6\n",
       "2    12\n",
       "dtype: int64"
      ]
     },
     "execution_count": 30,
     "metadata": {},
     "output_type": "execute_result"
    }
   ],
   "source": [
    "s1=pd.Series([1,3,4])\n",
    "s2=pd.Series([8,3,8])\n",
    "s1+s2"
   ]
  },
  {
   "cell_type": "code",
   "execution_count": 32,
   "id": "2ab26d07",
   "metadata": {},
   "outputs": [
    {
     "data": {
      "text/plain": [
       "0     9.0\n",
       "1     6.0\n",
       "2    13.0\n",
       "3     NaN\n",
       "4     NaN\n",
       "5     NaN\n",
       "dtype: float64"
      ]
     },
     "execution_count": 32,
     "metadata": {},
     "output_type": "execute_result"
    }
   ],
   "source": [
    "s1=pd.Series([1,3,5,5,7,4])\n",
    "s2=pd.Series([8,3,8])\n",
    "s1+s2"
   ]
  },
  {
   "cell_type": "code",
   "execution_count": null,
   "id": "77fb4b02",
   "metadata": {},
   "outputs": [],
   "source": []
  }
 ],
 "metadata": {
  "kernelspec": {
   "display_name": "Python 3 (ipykernel)",
   "language": "python",
   "name": "python3"
  },
  "language_info": {
   "codemirror_mode": {
    "name": "ipython",
    "version": 3
   },
   "file_extension": ".py",
   "mimetype": "text/x-python",
   "name": "python",
   "nbconvert_exporter": "python",
   "pygments_lexer": "ipython3",
   "version": "3.9.6"
  }
 },
 "nbformat": 4,
 "nbformat_minor": 5
}
