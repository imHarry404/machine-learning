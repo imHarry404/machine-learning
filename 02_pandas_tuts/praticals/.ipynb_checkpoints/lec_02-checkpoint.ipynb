{
 "cells": [
  {
   "cell_type": "markdown",
   "id": "fce33109",
   "metadata": {},
   "source": [
    "# creating pandas series and some operations"
   ]
  },
  {
   "cell_type": "code",
   "execution_count": 1,
   "id": "087953ee",
   "metadata": {},
   "outputs": [],
   "source": [
    "import pandas as pd"
   ]
  },
  {
   "cell_type": "markdown",
   "id": "9ef433b8",
   "metadata": {},
   "source": [
    "creating a series using list"
   ]
  },
  {
   "cell_type": "code",
   "execution_count": 2,
   "id": "17aff1d7",
   "metadata": {},
   "outputs": [
    {
     "name": "stdout",
     "output_type": "stream",
     "text": [
      "[1, 2, 4, 6, 'hello harry']\n"
     ]
    }
   ],
   "source": [
    "lst=[1,2,4,6,'hello harry']\n",
    "print(lst)"
   ]
  },
  {
   "cell_type": "code",
   "execution_count": 3,
   "id": "98b1c391",
   "metadata": {},
   "outputs": [
    {
     "name": "stdout",
     "output_type": "stream",
     "text": [
      "0              1\n",
      "1              2\n",
      "2              4\n",
      "3              6\n",
      "4    hello harry\n",
      "dtype: object\n"
     ]
    }
   ],
   "source": [
    "series_lst=pd.Series(lst) #its dtype will be an object\n",
    "print(series_lst)"
   ]
  },
  {
   "cell_type": "markdown",
   "id": "28d830bd",
   "metadata": {},
   "source": [
    "creating series with dict"
   ]
  },
  {
   "cell_type": "code",
   "execution_count": 4,
   "id": "e825c88e",
   "metadata": {},
   "outputs": [
    {
     "name": "stdout",
     "output_type": "stream",
     "text": [
      "{21: 'harry', 34: 'mohak', 38: 'nitish', 52: 'ronik'}\n"
     ]
    }
   ],
   "source": [
    "dict1={21:'harry',34:\"mohak\",38:\"nitish\",52:\"ronik\"}\n",
    "print(dict1)"
   ]
  },
  {
   "cell_type": "code",
   "execution_count": 5,
   "id": "7a4ebae1",
   "metadata": {},
   "outputs": [
    {
     "name": "stdout",
     "output_type": "stream",
     "text": [
      "21     harry\n",
      "34     mohak\n",
      "38    nitish\n",
      "52     ronik\n",
      "dtype: object\n"
     ]
    }
   ],
   "source": [
    "series_dict=pd.Series(dict1) #its also dtype will be object\n",
    "print(series_dict)"
   ]
  },
  {
   "cell_type": "markdown",
   "id": "e56d0b24",
   "metadata": {},
   "source": [
    "creating series directly"
   ]
  },
  {
   "cell_type": "code",
   "execution_count": 6,
   "id": "fb57463c",
   "metadata": {},
   "outputs": [
    {
     "name": "stdout",
     "output_type": "stream",
     "text": [
      "0        1\n",
      "1        5\n",
      "2        6\n",
      "3        8\n",
      "4    harry\n",
      "dtype: object\n"
     ]
    }
   ],
   "source": [
    "series1=pd.Series([1,5,6,8,'harry'])\n",
    "print(series1)"
   ]
  },
  {
   "cell_type": "markdown",
   "id": "86119112",
   "metadata": {},
   "source": [
    "giving name, changing index and performing arithmetic operations on series"
   ]
  },
  {
   "cell_type": "code",
   "execution_count": 7,
   "id": "25f2f6eb",
   "metadata": {},
   "outputs": [
    {
     "name": "stdout",
     "output_type": "stream",
     "text": [
      "0    1.0\n",
      "1    5.0\n",
      "2    6.0\n",
      "3    8.0\n",
      "dtype: float64\n"
     ]
    }
   ],
   "source": [
    "series2=pd.Series([1,5,6,8],dtype=float)\n",
    "print(series2)"
   ]
  },
  {
   "cell_type": "code",
   "execution_count": 8,
   "id": "0633812c",
   "metadata": {
    "scrolled": true
   },
   "outputs": [
    {
     "name": "stdout",
     "output_type": "stream",
     "text": [
      "a        1\n",
      "b        5\n",
      "c        6\n",
      "d        8\n",
      "e    harry\n",
      "dtype: object\n"
     ]
    }
   ],
   "source": [
    "series3=pd.Series([1,5,6,8,'harry'],index=['a','b','c','d','e']) #no of index must be equal to no of series element\n",
    "print(series3)"
   ]
  },
  {
   "cell_type": "markdown",
   "id": "b848d655",
   "metadata": {},
   "source": [
    "creating scalar series "
   ]
  },
  {
   "cell_type": "code",
   "execution_count": 9,
   "id": "7d97e46c",
   "metadata": {},
   "outputs": [
    {
     "name": "stdout",
     "output_type": "stream",
     "text": [
      "0    0.5\n",
      "dtype: float64\n"
     ]
    }
   ],
   "source": [
    "s=pd.Series(.5) # it will only have one element and type will be float\n",
    "print(s)"
   ]
  },
  {
   "cell_type": "code",
   "execution_count": 10,
   "id": "6c186bec",
   "metadata": {},
   "outputs": [
    {
     "name": "stdout",
     "output_type": "stream",
     "text": [
      "1    0.5\n",
      "2    0.5\n",
      "3    0.5\n",
      "4    0.5\n",
      "5    0.5\n",
      "dtype: float64\n"
     ]
    }
   ],
   "source": [
    "s1=pd.Series(.5,index=[1,2,3,4,5]) # it will only have element equal to no of index and all values will be same\n",
    "print(s1)"
   ]
  },
  {
   "cell_type": "markdown",
   "id": "c1054f5b",
   "metadata": {},
   "source": [
    "adding two series of same no of data set"
   ]
  },
  {
   "cell_type": "code",
   "execution_count": 11,
   "id": "154a2e89",
   "metadata": {},
   "outputs": [
    {
     "name": "stdout",
     "output_type": "stream",
     "text": [
      "0    1\n",
      "1    2\n",
      "2    3\n",
      "3    4\n",
      "dtype: int64\n",
      "0    5\n",
      "1    8\n",
      "2    3\n",
      "3    7\n",
      "dtype: int64\n"
     ]
    }
   ],
   "source": [
    "s4=pd.Series([1,2,3,4])\n",
    "print(s4)\n",
    "s5=pd.Series([5,8,3,7])\n",
    "print(s5)"
   ]
  },
  {
   "cell_type": "code",
   "execution_count": 12,
   "id": "c6bea8bd",
   "metadata": {},
   "outputs": [
    {
     "data": {
      "text/plain": [
       "0     6\n",
       "1    10\n",
       "2     6\n",
       "3    11\n",
       "dtype: int64"
      ]
     },
     "execution_count": 12,
     "metadata": {},
     "output_type": "execute_result"
    }
   ],
   "source": [
    "s4+s5\n",
    "# it will add values as their respective index"
   ]
  },
  {
   "cell_type": "markdown",
   "id": "07e4013f",
   "metadata": {},
   "source": [
    "adding two series which have different no of data set"
   ]
  },
  {
   "cell_type": "code",
   "execution_count": 13,
   "id": "9c1b7466",
   "metadata": {},
   "outputs": [
    {
     "data": {
      "text/plain": [
       "0    1\n",
       "1    2\n",
       "2    3\n",
       "3    4\n",
       "dtype: int64"
      ]
     },
     "execution_count": 13,
     "metadata": {},
     "output_type": "execute_result"
    }
   ],
   "source": [
    "s4"
   ]
  },
  {
   "cell_type": "code",
   "execution_count": 14,
   "id": "d1a038b4",
   "metadata": {},
   "outputs": [
    {
     "name": "stdout",
     "output_type": "stream",
     "text": [
      "0    1\n",
      "1    2\n",
      "dtype: int64\n"
     ]
    }
   ],
   "source": [
    "s6=pd.Series([1,2])\n",
    "print(s6)"
   ]
  },
  {
   "cell_type": "code",
   "execution_count": 15,
   "id": "6c2544d5",
   "metadata": {},
   "outputs": [
    {
     "data": {
      "text/plain": [
       "0    2.0\n",
       "1    4.0\n",
       "2    NaN\n",
       "3    NaN\n",
       "dtype: float64"
      ]
     },
     "execution_count": 15,
     "metadata": {},
     "output_type": "execute_result"
    }
   ],
   "source": [
    "s4+s6\n",
    "# it will give Nan at those places"
   ]
  },
  {
   "cell_type": "markdown",
   "id": "89826bf6",
   "metadata": {},
   "source": [
    "accessing series using index or slicing the series"
   ]
  },
  {
   "cell_type": "code",
   "execution_count": 16,
   "id": "28abbf42",
   "metadata": {},
   "outputs": [
    {
     "name": "stdout",
     "output_type": "stream",
     "text": [
      "0     1\n",
      "1     2\n",
      "2     6\n",
      "3    98\n",
      "4     3\n",
      "5    67\n",
      "6    88\n",
      "7    33\n",
      "dtype: int64\n"
     ]
    }
   ],
   "source": [
    "s8=pd.Series([1,2,6,98,3,67,88,33])\n",
    "print(s8)"
   ]
  },
  {
   "cell_type": "code",
   "execution_count": 17,
   "id": "f783bf14",
   "metadata": {},
   "outputs": [
    {
     "data": {
      "text/plain": [
       "1"
      ]
     },
     "execution_count": 17,
     "metadata": {},
     "output_type": "execute_result"
    }
   ],
   "source": [
    "s8[0]"
   ]
  },
  {
   "cell_type": "code",
   "execution_count": 18,
   "id": "545c8e62",
   "metadata": {},
   "outputs": [
    {
     "data": {
      "text/plain": [
       "2     6\n",
       "3    98\n",
       "4     3\n",
       "5    67\n",
       "6    88\n",
       "7    33\n",
       "dtype: int64"
      ]
     },
     "execution_count": 18,
     "metadata": {},
     "output_type": "execute_result"
    }
   ],
   "source": [
    "s8[2:]"
   ]
  },
  {
   "cell_type": "code",
   "execution_count": 19,
   "id": "2ee52bcd",
   "metadata": {},
   "outputs": [
    {
     "data": {
      "text/plain": [
       "0    1\n",
       "1    2\n",
       "dtype: int64"
      ]
     },
     "execution_count": 19,
     "metadata": {},
     "output_type": "execute_result"
    }
   ],
   "source": [
    "s8[:2]"
   ]
  },
  {
   "cell_type": "code",
   "execution_count": null,
   "id": "987de309",
   "metadata": {},
   "outputs": [],
   "source": []
  }
 ],
 "metadata": {
  "kernelspec": {
   "display_name": "Python 3",
   "language": "python",
   "name": "python3"
  },
  "language_info": {
   "codemirror_mode": {
    "name": "ipython",
    "version": 3
   },
   "file_extension": ".py",
   "mimetype": "text/x-python",
   "name": "python",
   "nbconvert_exporter": "python",
   "pygments_lexer": "ipython3",
   "version": "3.9.1"
  }
 },
 "nbformat": 4,
 "nbformat_minor": 5
}
