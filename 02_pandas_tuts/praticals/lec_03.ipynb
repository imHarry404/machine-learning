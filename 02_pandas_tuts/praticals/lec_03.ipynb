{
 "cells": [
  {
   "cell_type": "markdown",
   "id": "d4834f69",
   "metadata": {},
   "source": [
    "# Python Pandas DataFrame"
   ]
  },
  {
   "cell_type": "code",
   "execution_count": 1,
   "id": "4203a478",
   "metadata": {},
   "outputs": [],
   "source": [
    "import pandas as pd"
   ]
  },
  {
   "cell_type": "markdown",
   "id": "61b08eec",
   "metadata": {},
   "source": [
    "creating empty DataFrame"
   ]
  },
  {
   "cell_type": "code",
   "execution_count": 2,
   "id": "044a8a5a",
   "metadata": {},
   "outputs": [
    {
     "name": "stdout",
     "output_type": "stream",
     "text": [
      "Empty DataFrame\n",
      "Columns: []\n",
      "Index: []\n"
     ]
    }
   ],
   "source": [
    "emp_df=pd.DataFrame()\n",
    "print(emp_df)"
   ]
  },
  {
   "cell_type": "markdown",
   "id": "7078df07",
   "metadata": {},
   "source": [
    "creating DataFrame using list"
   ]
  },
  {
   "cell_type": "code",
   "execution_count": 3,
   "id": "f64f4900",
   "metadata": {},
   "outputs": [
    {
     "name": "stdout",
     "output_type": "stream",
     "text": [
      "       0\n",
      "0      1\n",
      "1      2\n",
      "2     56\n",
      "3  harry\n"
     ]
    }
   ],
   "source": [
    "lst=[1,2,56,'harry']\n",
    "lst_df=pd.DataFrame(lst)\n",
    "print(lst_df)"
   ]
  },
  {
   "cell_type": "markdown",
   "id": "f3d4124d",
   "metadata": {},
   "source": [
    "creating DataFrame using List of List"
   ]
  },
  {
   "cell_type": "code",
   "execution_count": 4,
   "id": "a134daaa",
   "metadata": {},
   "outputs": [
    {
     "name": "stdout",
     "output_type": "stream",
     "text": [
      "       0      1      2\n",
      "0      1      2      3\n",
      "1  harry  ntish  mohak\n"
     ]
    }
   ],
   "source": [
    "ls_of_ls=[[1,2,3],['harry','ntish','mohak']]\n",
    "# elements must be same of all list otherwise it will through an error\n",
    "ls_of_ls_df=pd.DataFrame(ls_of_ls)\n",
    "print(ls_of_ls_df)"
   ]
  },
  {
   "cell_type": "markdown",
   "id": "aa705e21",
   "metadata": {},
   "source": [
    "Creating DataFrame using dict"
   ]
  },
  {
   "cell_type": "code",
   "execution_count": 5,
   "id": "9e7c7ea4",
   "metadata": {},
   "outputs": [
    {
     "name": "stdout",
     "output_type": "stream",
     "text": [
      "   id\n",
      "0  11\n",
      "1  12\n",
      "2  13\n"
     ]
    }
   ],
   "source": [
    "dict1={'id':[11,12,13]}\n",
    "dict1_df=pd.DataFrame(dict1)\n",
    "print(dict1_df)"
   ]
  },
  {
   "cell_type": "markdown",
   "id": "85e3cc97",
   "metadata": {},
   "source": [
    "Creating DataFrame using dict of dict\n",
    "values must be same for all the dict otherwise it will give error"
   ]
  },
  {
   "cell_type": "code",
   "execution_count": 6,
   "id": "f56bc9c5",
   "metadata": {},
   "outputs": [
    {
     "name": "stdout",
     "output_type": "stream",
     "text": [
      "   id    name branch\n",
      "0  11   mohak    cse\n",
      "1  12   harry     me\n",
      "2  13  nitish     ce\n"
     ]
    }
   ],
   "source": [
    "dict2={'id':[11,12,13],\"name\":['mohak','harry','nitish'],'branch':['cse','me','ce']}\n",
    "dict2_df=pd.DataFrame(dict2)\n",
    "print(dict2_df)"
   ]
  },
  {
   "cell_type": "markdown",
   "id": "0b35e8c3",
   "metadata": {},
   "source": [
    "creating DataFrame using list of dict\n",
    "if values are not equal in list then it will put NaN at those places"
   ]
  },
  {
   "cell_type": "code",
   "execution_count": 7,
   "id": "a1e82ae6",
   "metadata": {},
   "outputs": [
    {
     "name": "stdout",
     "output_type": "stream",
     "text": [
      "     a    b   sq   cb  harry  nitish  mohak\n",
      "0  1.0  2.0  NaN  NaN    NaN     NaN    NaN\n",
      "1  NaN  NaN  4.0  9.0    NaN     NaN    NaN\n",
      "2  NaN  NaN  NaN  NaN   21.0    28.0   34.0\n"
     ]
    }
   ],
   "source": [
    "ls_dict=[{'a':1,\"b\":2},{\"sq\":4,\"cb\":9},{\"harry\":21,\"nitish\":28,\"mohak\":34}]\n",
    "ls_dict_df=pd.DataFrame(ls_dict)\n",
    "print(ls_dict_df)\n",
    "# mtlb yha keys title bn jayega and values uske niche"
   ]
  },
  {
   "cell_type": "markdown",
   "id": "15937c79",
   "metadata": {},
   "source": [
    "creating Dataframe using dict of series\n",
    "if values are not equal in list then it will put NaN at those places"
   ]
  },
  {
   "cell_type": "code",
   "execution_count": 8,
   "id": "9717a367",
   "metadata": {},
   "outputs": [
    {
     "name": "stdout",
     "output_type": "stream",
     "text": [
      "     id    name\n",
      "0  11.0  nitish\n",
      "1  22.0   ronik\n",
      "2  33.0   harry\n",
      "3   NaN   mohak\n"
     ]
    }
   ],
   "source": [
    "df_sr={'id':pd.Series([11,22,33]),'name':pd.Series(['nitish','ronik','harry','mohak'])}\n",
    "df_sr_df=pd.DataFrame(df_sr)\n",
    "print(df_sr_df)"
   ]
  },
  {
   "cell_type": "code",
   "execution_count": null,
   "id": "4ab94e97",
   "metadata": {},
   "outputs": [],
   "source": []
  },
  {
   "cell_type": "code",
   "execution_count": null,
   "id": "2aeaf8d3",
   "metadata": {},
   "outputs": [],
   "source": []
  }
 ],
 "metadata": {
  "kernelspec": {
   "display_name": "Python 3",
   "language": "python",
   "name": "python3"
  },
  "language_info": {
   "codemirror_mode": {
    "name": "ipython",
    "version": 3
   },
   "file_extension": ".py",
   "mimetype": "text/x-python",
   "name": "python",
   "nbconvert_exporter": "python",
   "pygments_lexer": "ipython3",
   "version": "3.9.1"
  }
 },
 "nbformat": 4,
 "nbformat_minor": 5
}
