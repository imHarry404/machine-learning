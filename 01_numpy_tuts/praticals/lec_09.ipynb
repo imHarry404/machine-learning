{
 "cells": [
  {
   "cell_type": "markdown",
   "id": "0fa286fb",
   "metadata": {},
   "source": [
    "# Random sampling with NumPy"
   ]
  },
  {
   "cell_type": "code",
   "execution_count": 1,
   "id": "41413f62",
   "metadata": {},
   "outputs": [],
   "source": [
    "import numpy as np\n",
    "import random"
   ]
  },
  {
   "cell_type": "code",
   "execution_count": 2,
   "id": "36a0c589",
   "metadata": {},
   "outputs": [
    {
     "data": {
      "text/plain": [
       "array([0.87518694])"
      ]
     },
     "execution_count": 2,
     "metadata": {},
     "output_type": "execute_result"
    }
   ],
   "source": [
    "np.random.random(1)\n",
    "# it will generate random number between 0 and 1, the generate number will be float"
   ]
  },
  {
   "cell_type": "markdown",
   "id": "8d3ca5db",
   "metadata": {},
   "source": [
    "to create multi dimenstional array with random values"
   ]
  },
  {
   "cell_type": "code",
   "execution_count": 3,
   "id": "247b8555",
   "metadata": {},
   "outputs": [],
   "source": [
    "# np.random.random((row,column)) , we have to pass the row,column as tuple\n",
    "# values will be b/w 0&1 , values will be float"
   ]
  },
  {
   "cell_type": "code",
   "execution_count": 4,
   "id": "1ee1584c",
   "metadata": {},
   "outputs": [
    {
     "data": {
      "text/plain": [
       "array([[0.10709266, 0.92459326, 0.91232722, 0.92760742, 0.26374088],\n",
       "       [0.22696996, 0.20695996, 0.0817962 , 0.60131656, 0.62287669],\n",
       "       [0.07452603, 0.98930968, 0.99073217, 0.00330803, 0.72629831],\n",
       "       [0.78457223, 0.28746059, 0.8407532 , 0.17603725, 0.99564575]])"
      ]
     },
     "execution_count": 4,
     "metadata": {},
     "output_type": "execute_result"
    }
   ],
   "source": [
    "np.random.random((4,5))"
   ]
  },
  {
   "cell_type": "code",
   "execution_count": 5,
   "id": "233f3e81",
   "metadata": {},
   "outputs": [
    {
     "data": {
      "text/plain": [
       "array([0.34529174, 0.8710949 , 0.08538774, 0.80215947])"
      ]
     },
     "execution_count": 5,
     "metadata": {},
     "output_type": "execute_result"
    }
   ],
   "source": [
    "np.random.random(4) #it will create oneD array of 4 elements"
   ]
  },
  {
   "cell_type": "markdown",
   "id": "9ed81c51",
   "metadata": {},
   "source": [
    "to create array of random number of int type"
   ]
  },
  {
   "cell_type": "code",
   "execution_count": 6,
   "id": "536e2598",
   "metadata": {},
   "outputs": [
    {
     "data": {
      "text/plain": [
       "1"
      ]
     },
     "execution_count": 6,
     "metadata": {},
     "output_type": "execute_result"
    }
   ],
   "source": [
    "np.random.randint(1,4) #its elements will be b/w 1 to 4 [1,2,3] is me se koi v ho skta hai\n"
   ]
  },
  {
   "cell_type": "code",
   "execution_count": 7,
   "id": "30a93dd8",
   "metadata": {},
   "outputs": [
    {
     "name": "stdout",
     "output_type": "stream",
     "text": [
      "3\n",
      "2\n",
      "2\n",
      "1\n",
      "1\n",
      "3\n",
      "1\n",
      "3\n",
      "3\n",
      "1\n"
     ]
    }
   ],
   "source": [
    "# testing this method by running it 10 times\n",
    "for i in range(10):\n",
    "    print(np.random.randint(1,4))"
   ]
  },
  {
   "cell_type": "code",
   "execution_count": 8,
   "id": "090df6a6",
   "metadata": {},
   "outputs": [
    {
     "data": {
      "text/plain": [
       "array([[7, 2, 3],\n",
       "       [4, 6, 2]])"
      ]
     },
     "execution_count": 8,
     "metadata": {},
     "output_type": "execute_result"
    }
   ],
   "source": [
    "# np.random.randint(start,end(row,column))\n",
    "\n",
    "np.random.randint(2,9,(2,3)) # ir will create an array with random values between given range and with given dimension"
   ]
  },
  {
   "cell_type": "code",
   "execution_count": 9,
   "id": "31a1abb1",
   "metadata": {},
   "outputs": [
    {
     "data": {
      "text/plain": [
       "array([[[14, 16, 12],\n",
       "        [ 7, 15,  6],\n",
       "        [ 2, 12,  1]],\n",
       "\n",
       "       [[ 1,  8,  4],\n",
       "        [11,  8,  8],\n",
       "        [ 3, 13, 16]]])"
      ]
     },
     "execution_count": 9,
     "metadata": {},
     "output_type": "execute_result"
    }
   ],
   "source": [
    "np.random.randint(1,19,(2,3,3)) # it will create 3D array"
   ]
  },
  {
   "cell_type": "markdown",
   "id": "59d60c27",
   "metadata": {},
   "source": [
    "above method always creates random array every time, to create the array every time with same values in given range we will use np.random.seed(range) method"
   ]
  },
  {
   "cell_type": "code",
   "execution_count": 10,
   "id": "fc74aed7",
   "metadata": {},
   "outputs": [
    {
     "data": {
      "text/plain": [
       "array([[7, 5, 6],\n",
       "       [2, 3, 5]])"
      ]
     },
     "execution_count": 10,
     "metadata": {},
     "output_type": "execute_result"
    }
   ],
   "source": [
    "np.random.seed(1)\n",
    "np.random.randint(2,9,(2,3))"
   ]
  },
  {
   "cell_type": "code",
   "execution_count": 11,
   "id": "8462a4d1",
   "metadata": {},
   "outputs": [
    {
     "data": {
      "text/plain": [
       "array([[7, 5, 6],\n",
       "       [2, 3, 5]])"
      ]
     },
     "execution_count": 11,
     "metadata": {},
     "output_type": "execute_result"
    }
   ],
   "source": [
    "np.random.seed(1)\n",
    "np.random.randint(2,9,(2,3))"
   ]
  },
  {
   "cell_type": "code",
   "execution_count": 12,
   "id": "18c7003f",
   "metadata": {},
   "outputs": [
    {
     "data": {
      "text/plain": [
       "array([[2, 7, 2],\n",
       "       [8, 5, 4]])"
      ]
     },
     "execution_count": 12,
     "metadata": {},
     "output_type": "execute_result"
    }
   ],
   "source": [
    "np.random.seed(2)\n",
    "np.random.randint(2,9,(2,3))"
   ]
  },
  {
   "cell_type": "code",
   "execution_count": 13,
   "id": "64f8700b",
   "metadata": {},
   "outputs": [
    {
     "data": {
      "text/plain": [
       "array([[4, 2, 3],\n",
       "       [5, 2, 2]])"
      ]
     },
     "execution_count": 13,
     "metadata": {},
     "output_type": "execute_result"
    }
   ],
   "source": [
    "np.random.seed(3)\n",
    "np.random.randint(2,9,(2,3))"
   ]
  },
  {
   "cell_type": "code",
   "execution_count": 14,
   "id": "cf4e3dd4",
   "metadata": {},
   "outputs": [
    {
     "data": {
      "text/plain": [
       "array([[7, 5, 6],\n",
       "       [2, 3, 5]])"
      ]
     },
     "execution_count": 14,
     "metadata": {},
     "output_type": "execute_result"
    }
   ],
   "source": [
    "np.random.seed(1)\n",
    "np.random.randint(2,9,(2,3))\n"
   ]
  },
  {
   "cell_type": "code",
   "execution_count": 15,
   "id": "a7d645db",
   "metadata": {},
   "outputs": [
    {
     "data": {
      "text/plain": [
       "array([[2, 7, 2],\n",
       "       [8, 5, 4]])"
      ]
     },
     "execution_count": 15,
     "metadata": {},
     "output_type": "execute_result"
    }
   ],
   "source": [
    "np.random.seed(2)\n",
    "np.random.randint(2,9,(2,3))"
   ]
  },
  {
   "cell_type": "code",
   "execution_count": 16,
   "id": "d7d743a7",
   "metadata": {},
   "outputs": [
    {
     "data": {
      "text/plain": [
       "array([[4, 2, 3],\n",
       "       [5, 2, 2]])"
      ]
     },
     "execution_count": 16,
     "metadata": {},
     "output_type": "execute_result"
    }
   ],
   "source": [
    "np.random.seed(3)\n",
    "np.random.randint(2,9,(2,3))"
   ]
  },
  {
   "cell_type": "code",
   "execution_count": 17,
   "id": "57d53b27",
   "metadata": {},
   "outputs": [],
   "source": [
    "# seed ,me jo value dete hai wo mtlb us array ka ek code hua,,jb v uske sath create krenge wo wahi old array aayega"
   ]
  },
  {
   "cell_type": "code",
   "execution_count": 18,
   "id": "c66505b6",
   "metadata": {},
   "outputs": [
    {
     "data": {
      "text/plain": [
       "array([0.51082761, 0.89294695, 0.89629309])"
      ]
     },
     "execution_count": 18,
     "metadata": {},
     "output_type": "execute_result"
    }
   ],
   "source": [
    "np.random.rand(3) #it will generate an array of 3 elements and range is b/w 0&1 and value will ve float"
   ]
  },
  {
   "cell_type": "code",
   "execution_count": 19,
   "id": "fc5bbc94",
   "metadata": {},
   "outputs": [
    {
     "data": {
      "text/plain": [
       "array([[0.12558531, 0.20724288, 0.0514672 ],\n",
       "       [0.44080984, 0.02987621, 0.45683322],\n",
       "       [0.64914405, 0.27848728, 0.6762549 ]])"
      ]
     },
     "execution_count": 19,
     "metadata": {},
     "output_type": "execute_result"
    }
   ],
   "source": [
    "np.random.rand(3,3) #2D array"
   ]
  },
  {
   "cell_type": "code",
   "execution_count": 20,
   "id": "ddc93288",
   "metadata": {},
   "outputs": [
    {
     "data": {
      "text/plain": [
       "array([[[0.59086282, 0.02398188, 0.55885409],\n",
       "        [0.25925245, 0.4151012 , 0.28352508],\n",
       "        [0.69313792, 0.44045372, 0.15686774]],\n",
       "\n",
       "       [[0.54464902, 0.78031476, 0.30636353],\n",
       "        [0.22195788, 0.38797126, 0.93638365],\n",
       "        [0.97599542, 0.67238368, 0.90283411]],\n",
       "\n",
       "       [[0.84575087, 0.37799404, 0.09221701],\n",
       "        [0.6534109 , 0.55784076, 0.36156476],\n",
       "        [0.2250545 , 0.40651992, 0.46894025]]])"
      ]
     },
     "execution_count": 20,
     "metadata": {},
     "output_type": "execute_result"
    }
   ],
   "source": [
    "np.random.rand(3,3,3) #3D array"
   ]
  },
  {
   "cell_type": "markdown",
   "id": "0e7997c6",
   "metadata": {},
   "source": [
    "to create array of +ve and -ve values"
   ]
  },
  {
   "cell_type": "code",
   "execution_count": 21,
   "id": "29869bcc",
   "metadata": {},
   "outputs": [
    {
     "data": {
      "text/plain": [
       "array([[-0.92379202, -1.02387576,  1.12397796],\n",
       "       [-0.13191423, -1.62328545,  0.64667545],\n",
       "       [-0.35627076, -1.74314104, -0.59664964]])"
      ]
     },
     "execution_count": 21,
     "metadata": {},
     "output_type": "execute_result"
    }
   ],
   "source": [
    "np.random.randn(3,3) #array of 3 rows and 3 column with random +/- value range between 0&1 and values will be float"
   ]
  },
  {
   "cell_type": "code",
   "execution_count": null,
   "id": "7d2323dc",
   "metadata": {},
   "outputs": [],
   "source": []
  },
  {
   "cell_type": "code",
   "execution_count": 22,
   "id": "c4183aa6",
   "metadata": {},
   "outputs": [],
   "source": [
    "# to print any number from a given range"
   ]
  },
  {
   "cell_type": "code",
   "execution_count": 23,
   "id": "1bc67e75",
   "metadata": {},
   "outputs": [
    {
     "name": "stdout",
     "output_type": "stream",
     "text": [
      "[1, 2, 3, 54, 21, 8, 44]\n"
     ]
    }
   ],
   "source": [
    "x=[1,2,3,54,21,8,44]\n",
    "print(x)"
   ]
  },
  {
   "cell_type": "code",
   "execution_count": 24,
   "id": "b196bb23",
   "metadata": {},
   "outputs": [
    {
     "data": {
      "text/plain": [
       "2"
      ]
     },
     "execution_count": 24,
     "metadata": {},
     "output_type": "execute_result"
    }
   ],
   "source": [
    "np.random.choice(x)\n",
    "# choice method is used to access random method from a given list"
   ]
  },
  {
   "cell_type": "code",
   "execution_count": 25,
   "id": "0de24412",
   "metadata": {},
   "outputs": [
    {
     "name": "stdout",
     "output_type": "stream",
     "text": [
      "21\n",
      "2\n",
      "21\n",
      "3\n",
      "3\n",
      "21\n",
      "21\n",
      "3\n",
      "1\n",
      "21\n"
     ]
    }
   ],
   "source": [
    "for i in range(10):\n",
    "    print(np.random.choice(x))"
   ]
  },
  {
   "cell_type": "markdown",
   "id": "75c5655f",
   "metadata": {},
   "source": [
    "PERMUTATION, SHUFFLE"
   ]
  },
  {
   "cell_type": "code",
   "execution_count": 26,
   "id": "b50fb533",
   "metadata": {},
   "outputs": [
    {
     "data": {
      "text/plain": [
       "array([ 2,  8, 44, 21,  3, 54,  1])"
      ]
     },
     "execution_count": 26,
     "metadata": {},
     "output_type": "execute_result"
    }
   ],
   "source": [
    "np.random.permutation(x)"
   ]
  },
  {
   "cell_type": "code",
   "execution_count": null,
   "id": "0f7e3e63",
   "metadata": {},
   "outputs": [],
   "source": []
  }
 ],
 "metadata": {
  "kernelspec": {
   "display_name": "Python 3",
   "language": "python",
   "name": "python3"
  },
  "language_info": {
   "codemirror_mode": {
    "name": "ipython",
    "version": 3
   },
   "file_extension": ".py",
   "mimetype": "text/x-python",
   "name": "python",
   "nbconvert_exporter": "python",
   "pygments_lexer": "ipython3",
   "version": "3.9.1"
  }
 },
 "nbformat": 4,
 "nbformat_minor": 5
}
