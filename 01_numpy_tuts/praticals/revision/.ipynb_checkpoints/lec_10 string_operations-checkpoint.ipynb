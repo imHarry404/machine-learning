{
 "cells": [
  {
   "cell_type": "markdown",
   "id": "de73e2b1",
   "metadata": {},
   "source": [
    "## string operations , comparision and information\n"
   ]
  },
  {
   "cell_type": "code",
   "execution_count": 1,
   "id": "da468ac7",
   "metadata": {},
   "outputs": [],
   "source": [
    "import numpy as np"
   ]
  },
  {
   "cell_type": "code",
   "execution_count": 2,
   "id": "510940dd",
   "metadata": {},
   "outputs": [],
   "source": [
    "ch=\"Harry The Coder \"\n",
    "str1=\"mohak is chutiya\""
   ]
  },
  {
   "cell_type": "code",
   "execution_count": 3,
   "id": "8c4c7583",
   "metadata": {},
   "outputs": [
    {
     "data": {
      "text/plain": [
       "array('Harry The Coder mohak is chutiya', dtype='<U32')"
      ]
     },
     "execution_count": 3,
     "metadata": {},
     "output_type": "execute_result"
    }
   ],
   "source": [
    "np.char.add(ch,str1) # it will create an array"
   ]
  },
  {
   "cell_type": "markdown",
   "id": "77e87ff1",
   "metadata": {},
   "source": [
    "#### to lowercase"
   ]
  },
  {
   "cell_type": "code",
   "execution_count": 4,
   "id": "85cadc45",
   "metadata": {},
   "outputs": [
    {
     "data": {
      "text/plain": [
       "array('harry the coder ', dtype='<U16')"
      ]
     },
     "execution_count": 4,
     "metadata": {},
     "output_type": "execute_result"
    }
   ],
   "source": [
    "np.char.lower(ch)"
   ]
  },
  {
   "cell_type": "markdown",
   "id": "491ed82f",
   "metadata": {},
   "source": [
    "##### to upper "
   ]
  },
  {
   "cell_type": "code",
   "execution_count": 5,
   "id": "f704bdd6",
   "metadata": {},
   "outputs": [
    {
     "data": {
      "text/plain": [
       "array('HARRY THE CODER ', dtype='<U16')"
      ]
     },
     "execution_count": 5,
     "metadata": {},
     "output_type": "execute_result"
    }
   ],
   "source": [
    "np.char.upper(ch)"
   ]
  },
  {
   "cell_type": "markdown",
   "id": "5336e143",
   "metadata": {},
   "source": [
    "#####  cernter -> it will put the string into the center ->length\n",
    "np.char.center(var, range,fillchar=\"*\") -> between given range the val will be adjusted"
   ]
  },
  {
   "cell_type": "code",
   "execution_count": 6,
   "id": "c81f8495",
   "metadata": {},
   "outputs": [
    {
     "data": {
      "text/plain": [
       "'Harry The Coder '"
      ]
     },
     "execution_count": 6,
     "metadata": {},
     "output_type": "execute_result"
    }
   ],
   "source": [
    "ch"
   ]
  },
  {
   "cell_type": "code",
   "execution_count": 7,
   "id": "74910798",
   "metadata": {},
   "outputs": [
    {
     "data": {
      "text/plain": [
       "array('------------mohak is chutiya------------', dtype='<U40')"
      ]
     },
     "execution_count": 7,
     "metadata": {},
     "output_type": "execute_result"
    }
   ],
   "source": [
    "np.char.center(str1,40,fillchar=\"-\")"
   ]
  },
  {
   "cell_type": "code",
   "execution_count": 8,
   "id": "f8a4f579",
   "metadata": {},
   "outputs": [
    {
     "data": {
      "text/plain": [
       "array('-------Harry The Coder -------', dtype='<U30')"
      ]
     },
     "execution_count": 8,
     "metadata": {},
     "output_type": "execute_result"
    }
   ],
   "source": [
    "np.char.center(ch,30,fillchar=\"-\")"
   ]
  },
  {
   "cell_type": "markdown",
   "id": "4d09f2d5",
   "metadata": {},
   "source": [
    "### split\n",
    "it will split the string words into as array elements"
   ]
  },
  {
   "cell_type": "code",
   "execution_count": 9,
   "id": "da6279d2",
   "metadata": {},
   "outputs": [
    {
     "data": {
      "text/plain": [
       "array(list(['Harry', 'The', 'Coder']), dtype=object)"
      ]
     },
     "execution_count": 9,
     "metadata": {},
     "output_type": "execute_result"
    }
   ],
   "source": [
    "np.char.split(ch)"
   ]
  },
  {
   "cell_type": "markdown",
   "id": "48827c03",
   "metadata": {},
   "source": [
    "##### splitlines\n",
    "it will break the string from \\n"
   ]
  },
  {
   "cell_type": "code",
   "execution_count": 10,
   "id": "8f70bf1f",
   "metadata": {},
   "outputs": [
    {
     "data": {
      "text/plain": [
       "array(list(['hello', 'harry', 'how are you']), dtype=object)"
      ]
     },
     "execution_count": 10,
     "metadata": {},
     "output_type": "execute_result"
    }
   ],
   "source": [
    "np.char.splitlines(\"hello\\nharry\\nhow are you\")"
   ]
  },
  {
   "cell_type": "markdown",
   "id": "88be0843",
   "metadata": {},
   "source": [
    "##### join\n",
    "np.char.join([\"char\"],[val])\n",
    "to join all the character"
   ]
  },
  {
   "cell_type": "code",
   "execution_count": 11,
   "id": "bb164241",
   "metadata": {},
   "outputs": [],
   "source": [
    "st1=\"harry\"\n",
    "st2=\"kumar\""
   ]
  },
  {
   "cell_type": "code",
   "execution_count": 12,
   "id": "ce5e8a84",
   "metadata": {},
   "outputs": [
    {
     "data": {
      "text/plain": [
       "array(['h:a:r:r:y', 'k/u/m/a/r'], dtype='<U9')"
      ]
     },
     "execution_count": 12,
     "metadata": {},
     "output_type": "execute_result"
    }
   ],
   "source": [
    "np.char.join([\":\",\"/\"],[st1,st2])"
   ]
  },
  {
   "cell_type": "code",
   "execution_count": 13,
   "id": "c42c0f04",
   "metadata": {},
   "outputs": [
    {
     "name": "stdout",
     "output_type": "stream",
     "text": [
      "python is very easy\n",
      "['p**y**t**h**o**n** **i**s** **v**e**r**y** **e**a**s**y']\n"
     ]
    }
   ],
   "source": [
    "nm=\"python is very easy\"\n",
    "print(nm)\n",
    "a=np.char.join([\"**\"],[nm])\n",
    "print(a)"
   ]
  },
  {
   "cell_type": "markdown",
   "id": "f5c6e3b2",
   "metadata": {},
   "source": [
    "##### replace"
   ]
  },
  {
   "cell_type": "code",
   "execution_count": 14,
   "id": "a713575a",
   "metadata": {},
   "outputs": [
    {
     "name": "stdout",
     "output_type": "stream",
     "text": [
      "i am learning ML\n"
     ]
    }
   ],
   "source": [
    "st=\"i am learning ML\"\n",
    "print(st)"
   ]
  },
  {
   "cell_type": "code",
   "execution_count": 15,
   "id": "11f381ea",
   "metadata": {},
   "outputs": [
    {
     "data": {
      "text/plain": [
       "array('i am learning machine learning', dtype='<U30')"
      ]
     },
     "execution_count": 15,
     "metadata": {},
     "output_type": "execute_result"
    }
   ],
   "source": [
    "np.char.replace(st,\"ML\",\"machine learning\") #it will return value in array"
   ]
  },
  {
   "cell_type": "markdown",
   "id": "03cb9742",
   "metadata": {},
   "source": [
    "##### comparision"
   ]
  },
  {
   "cell_type": "code",
   "execution_count": 16,
   "id": "015ed4bc",
   "metadata": {},
   "outputs": [],
   "source": [
    "a=\"this is first string\"\n",
    "b=\"this is another string\""
   ]
  },
  {
   "cell_type": "code",
   "execution_count": 17,
   "id": "79ba83ae",
   "metadata": {},
   "outputs": [
    {
     "data": {
      "text/plain": [
       "array(False)"
      ]
     },
     "execution_count": 17,
     "metadata": {},
     "output_type": "execute_result"
    }
   ],
   "source": [
    "np.char.equal(a,b) #it will return true/false"
   ]
  },
  {
   "cell_type": "code",
   "execution_count": 18,
   "id": "9d5547d0",
   "metadata": {},
   "outputs": [
    {
     "data": {
      "text/plain": [
       "array(True)"
      ]
     },
     "execution_count": 18,
     "metadata": {},
     "output_type": "execute_result"
    }
   ],
   "source": [
    "a='hk'\n",
    "b='hk'\n",
    "np.char.equal(a,b)"
   ]
  },
  {
   "cell_type": "markdown",
   "id": "d11f67eb",
   "metadata": {},
   "source": [
    "##### information"
   ]
  },
  {
   "cell_type": "code",
   "execution_count": 19,
   "id": "d5b496ef",
   "metadata": {},
   "outputs": [
    {
     "data": {
      "text/plain": [
       "'this is first string and this is this and that is thi'"
      ]
     },
     "execution_count": 19,
     "metadata": {},
     "output_type": "execute_result"
    }
   ],
   "source": [
    "a=\"this is first string and this is this and that is thi\"\n",
    "a"
   ]
  },
  {
   "cell_type": "code",
   "execution_count": 20,
   "id": "f6c84531",
   "metadata": {},
   "outputs": [
    {
     "data": {
      "text/plain": [
       "array(3)"
      ]
     },
     "execution_count": 20,
     "metadata": {},
     "output_type": "execute_result"
    }
   ],
   "source": [
    "np.char.count(a,\"this\") #this will give that given string is how many time present in that string"
   ]
  },
  {
   "cell_type": "markdown",
   "id": "28da10df",
   "metadata": {},
   "source": [
    "#####  to check in a string given word /char is present or not\n",
    "it will give the index no of first occurance"
   ]
  },
  {
   "cell_type": "code",
   "execution_count": 21,
   "id": "87d687f4",
   "metadata": {},
   "outputs": [
    {
     "data": {
      "text/plain": [
       "'this is first string and this is this and that is thi'"
      ]
     },
     "execution_count": 21,
     "metadata": {},
     "output_type": "execute_result"
    }
   ],
   "source": [
    "a"
   ]
  },
  {
   "cell_type": "code",
   "execution_count": 22,
   "id": "bb1ac841",
   "metadata": {},
   "outputs": [
    {
     "data": {
      "text/plain": [
       "array(21)"
      ]
     },
     "execution_count": 22,
     "metadata": {},
     "output_type": "execute_result"
    }
   ],
   "source": [
    "np.char.find(a,\"and\") "
   ]
  },
  {
   "cell_type": "code",
   "execution_count": 23,
   "id": "900e8258",
   "metadata": {},
   "outputs": [
    {
     "data": {
      "text/plain": [
       "'this is first string and this is this and that is thi'"
      ]
     },
     "execution_count": 23,
     "metadata": {},
     "output_type": "execute_result"
    }
   ],
   "source": [
    "a"
   ]
  },
  {
   "cell_type": "code",
   "execution_count": 24,
   "id": "90ce1bda",
   "metadata": {},
   "outputs": [
    {
     "data": {
      "text/plain": [
       "array(True)"
      ]
     },
     "execution_count": 24,
     "metadata": {},
     "output_type": "execute_result"
    }
   ],
   "source": [
    "np.char.islower(a)"
   ]
  },
  {
   "cell_type": "code",
   "execution_count": 25,
   "id": "3ee6a0c3",
   "metadata": {},
   "outputs": [
    {
     "data": {
      "text/plain": [
       "array(False)"
      ]
     },
     "execution_count": 25,
     "metadata": {},
     "output_type": "execute_result"
    }
   ],
   "source": [
    "np.char.isupper(a)"
   ]
  },
  {
   "cell_type": "code",
   "execution_count": null,
   "id": "fc297c6d",
   "metadata": {},
   "outputs": [],
   "source": []
  }
 ],
 "metadata": {
  "kernelspec": {
   "display_name": "Python 3 (ipykernel)",
   "language": "python",
   "name": "python3"
  },
  "language_info": {
   "codemirror_mode": {
    "name": "ipython",
    "version": 3
   },
   "file_extension": ".py",
   "mimetype": "text/x-python",
   "name": "python",
   "nbconvert_exporter": "python",
   "pygments_lexer": "ipython3",
   "version": "3.9.6"
  }
 },
 "nbformat": 4,
 "nbformat_minor": 5
}
