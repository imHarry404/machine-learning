{
 "cells": [
  {
   "cell_type": "markdown",
   "id": "b202ae56",
   "metadata": {},
   "source": [
    "### numpy array concatination and split\n",
    "    np.concatinate((arr1,arr2),axis=0/1) 0 is default for column\n",
    "    \n",
    "    np.split()\n",
    "    split hone ke bad output list me aata hain or splitted array list ke form me hota hai"
   ]
  },
  {
   "cell_type": "code",
   "execution_count": 1,
   "id": "d6b91b9c",
   "metadata": {},
   "outputs": [],
   "source": [
    "import numpy as np"
   ]
  },
  {
   "cell_type": "code",
   "execution_count": 2,
   "id": "e9388b48",
   "metadata": {},
   "outputs": [
    {
     "name": "stdout",
     "output_type": "stream",
     "text": [
      "[[ 1  2  3  4]\n",
      " [ 5  6  7  8]\n",
      " [ 9 10 11 12]\n",
      " [13 14 15 16]]\n"
     ]
    },
    {
     "data": {
      "text/plain": [
       "2"
      ]
     },
     "execution_count": 2,
     "metadata": {},
     "output_type": "execute_result"
    }
   ],
   "source": [
    "arr1=np.arange(1,17).reshape(4,4)\n",
    "print(arr1)\n",
    "arr1.ndim"
   ]
  },
  {
   "cell_type": "code",
   "execution_count": 3,
   "id": "4e0c7124",
   "metadata": {},
   "outputs": [
    {
     "name": "stdout",
     "output_type": "stream",
     "text": [
      "[[17 18 19 20]\n",
      " [21 22 23 24]\n",
      " [25 26 27 28]\n",
      " [29 30 31 32]]\n"
     ]
    },
    {
     "data": {
      "text/plain": [
       "2"
      ]
     },
     "execution_count": 3,
     "metadata": {},
     "output_type": "execute_result"
    }
   ],
   "source": [
    "arr2=np.arange(17,33).reshape(4,4)\n",
    "print(arr2)\n",
    "arr2.ndim"
   ]
  },
  {
   "cell_type": "markdown",
   "id": "b1d9735d",
   "metadata": {},
   "source": [
    "### concatinate by columns "
   ]
  },
  {
   "cell_type": "code",
   "execution_count": 4,
   "id": "24a6c18e",
   "metadata": {},
   "outputs": [
    {
     "name": "stdout",
     "output_type": "stream",
     "text": [
      "[2, 56, 7, 2]\n",
      "[45, 56, 2, 7]\n",
      "[2, 56, 7, 2, 45, 56, 2, 7]\n"
     ]
    }
   ],
   "source": [
    "# testing using list\n",
    "list1=[2,56,7,2]\n",
    "list2=[45,56,2,7]\n",
    "print(list1)\n",
    "print(list2)\n",
    "print(list1+list2)"
   ]
  },
  {
   "cell_type": "markdown",
   "id": "d976acf7",
   "metadata": {},
   "source": [
    "#### we can't concatinate using + operator bucuase it will sum the array and that we dint want"
   ]
  },
  {
   "cell_type": "code",
   "execution_count": 5,
   "id": "d1c172ce",
   "metadata": {},
   "outputs": [
    {
     "data": {
      "text/plain": [
       "array([[ 1,  2,  3,  4],\n",
       "       [ 5,  6,  7,  8],\n",
       "       [ 9, 10, 11, 12],\n",
       "       [13, 14, 15, 16],\n",
       "       [17, 18, 19, 20],\n",
       "       [21, 22, 23, 24],\n",
       "       [25, 26, 27, 28],\n",
       "       [29, 30, 31, 32]])"
      ]
     },
     "execution_count": 5,
     "metadata": {},
     "output_type": "execute_result"
    }
   ],
   "source": [
    "np.concatenate((arr1,arr2))"
   ]
  },
  {
   "cell_type": "code",
   "execution_count": 6,
   "id": "a74e568b",
   "metadata": {},
   "outputs": [
    {
     "name": "stdout",
     "output_type": "stream",
     "text": [
      "[[ 1  2  3  4]\n",
      " [ 5  6  7  8]\n",
      " [ 9 10 11 12]\n",
      " [13 14 15 16]]\n",
      "\n",
      "[[17 18 19 20]\n",
      " [21 22 23 24]\n",
      " [25 26 27 28]\n",
      " [29 30 31 32]]\n"
     ]
    }
   ],
   "source": [
    "print(arr1)\n",
    "print()\n",
    "print(arr2)"
   ]
  },
  {
   "cell_type": "markdown",
   "id": "86dcf4dc",
   "metadata": {},
   "source": [
    "###### concatinate row wise\n",
    "we just have to give the axis as 1, becuase 0 is column and it is default"
   ]
  },
  {
   "cell_type": "code",
   "execution_count": 7,
   "id": "210943a6",
   "metadata": {},
   "outputs": [
    {
     "data": {
      "text/plain": [
       "array([[ 1,  2,  3,  4, 17, 18, 19, 20],\n",
       "       [ 5,  6,  7,  8, 21, 22, 23, 24],\n",
       "       [ 9, 10, 11, 12, 25, 26, 27, 28],\n",
       "       [13, 14, 15, 16, 29, 30, 31, 32]])"
      ]
     },
     "execution_count": 7,
     "metadata": {},
     "output_type": "execute_result"
    }
   ],
   "source": [
    "np.concatenate((arr1,arr2),axis=1)"
   ]
  },
  {
   "cell_type": "markdown",
   "id": "48571b33",
   "metadata": {},
   "source": [
    "####  using another method\n",
    "### using step function \n",
    "np.vstack((arr1,arr2))\n",
    "np.hstack((arr1,arr2))"
   ]
  },
  {
   "cell_type": "code",
   "execution_count": 8,
   "id": "8edb5df4",
   "metadata": {},
   "outputs": [
    {
     "data": {
      "text/plain": [
       "array([[ 1,  2,  3,  4],\n",
       "       [ 5,  6,  7,  8],\n",
       "       [ 9, 10, 11, 12],\n",
       "       [13, 14, 15, 16],\n",
       "       [17, 18, 19, 20],\n",
       "       [21, 22, 23, 24],\n",
       "       [25, 26, 27, 28],\n",
       "       [29, 30, 31, 32]])"
      ]
     },
     "execution_count": 8,
     "metadata": {},
     "output_type": "execute_result"
    }
   ],
   "source": [
    "np.vstack((arr1,arr2)) #vertical, column wise"
   ]
  },
  {
   "cell_type": "code",
   "execution_count": 9,
   "id": "0ebfb0cf",
   "metadata": {},
   "outputs": [
    {
     "data": {
      "text/plain": [
       "array([[ 1,  2,  3,  4, 17, 18, 19, 20],\n",
       "       [ 5,  6,  7,  8, 21, 22, 23, 24],\n",
       "       [ 9, 10, 11, 12, 25, 26, 27, 28],\n",
       "       [13, 14, 15, 16, 29, 30, 31, 32]])"
      ]
     },
     "execution_count": 9,
     "metadata": {},
     "output_type": "execute_result"
    }
   ],
   "source": [
    "np.hstack((arr1,arr2)) #horizontal row wise"
   ]
  },
  {
   "cell_type": "code",
   "execution_count": 10,
   "id": "032d1dbe",
   "metadata": {},
   "outputs": [
    {
     "name": "stdout",
     "output_type": "stream",
     "text": [
      "[[33 34 35 36]\n",
      " [37 38 39 40]\n",
      " [41 42 43 44]\n",
      " [45 46 47 48]]\n"
     ]
    }
   ],
   "source": [
    "arr3=np.arange(33,49).reshape(4,4)\n",
    "print(arr3)"
   ]
  },
  {
   "cell_type": "markdown",
   "id": "e29c5e9d",
   "metadata": {},
   "source": [
    "###### concatinating 3 arrays"
   ]
  },
  {
   "cell_type": "code",
   "execution_count": 11,
   "id": "bc588637",
   "metadata": {},
   "outputs": [
    {
     "data": {
      "text/plain": [
       "array([[ 1,  2,  3,  4, 17, 18, 19, 20, 33, 34, 35, 36],\n",
       "       [ 5,  6,  7,  8, 21, 22, 23, 24, 37, 38, 39, 40],\n",
       "       [ 9, 10, 11, 12, 25, 26, 27, 28, 41, 42, 43, 44],\n",
       "       [13, 14, 15, 16, 29, 30, 31, 32, 45, 46, 47, 48]])"
      ]
     },
     "execution_count": 11,
     "metadata": {},
     "output_type": "execute_result"
    }
   ],
   "source": [
    "np.hstack((arr1,arr2,arr3))"
   ]
  },
  {
   "cell_type": "code",
   "execution_count": 12,
   "id": "01ac9228",
   "metadata": {},
   "outputs": [
    {
     "data": {
      "text/plain": [
       "array([[ 1,  2,  3,  4],\n",
       "       [ 5,  6,  7,  8],\n",
       "       [ 9, 10, 11, 12],\n",
       "       [13, 14, 15, 16],\n",
       "       [17, 18, 19, 20],\n",
       "       [21, 22, 23, 24],\n",
       "       [25, 26, 27, 28],\n",
       "       [29, 30, 31, 32],\n",
       "       [33, 34, 35, 36],\n",
       "       [37, 38, 39, 40],\n",
       "       [41, 42, 43, 44],\n",
       "       [45, 46, 47, 48]])"
      ]
     },
     "execution_count": 12,
     "metadata": {},
     "output_type": "execute_result"
    }
   ],
   "source": [
    "np.vstack((arr1,arr2,arr3))"
   ]
  },
  {
   "cell_type": "markdown",
   "id": "0ef8f61f",
   "metadata": {},
   "source": [
    "###### splitting the arrays\n",
    "np.split(arr1,format)\n",
    "format must be integer\n",
    "the output will be a list"
   ]
  },
  {
   "cell_type": "code",
   "execution_count": 13,
   "id": "09dd09c3",
   "metadata": {},
   "outputs": [
    {
     "data": {
      "text/plain": [
       "array([[ 1,  2,  3,  4],\n",
       "       [ 5,  6,  7,  8],\n",
       "       [ 9, 10, 11, 12],\n",
       "       [13, 14, 15, 16]])"
      ]
     },
     "execution_count": 13,
     "metadata": {},
     "output_type": "execute_result"
    }
   ],
   "source": [
    "arr1"
   ]
  },
  {
   "cell_type": "code",
   "execution_count": 14,
   "id": "7ffaaf89",
   "metadata": {},
   "outputs": [
    {
     "name": "stdout",
     "output_type": "stream",
     "text": [
      "[array([[1, 2, 3, 4],\n",
      "       [5, 6, 7, 8]]), array([[ 9, 10, 11, 12],\n",
      "       [13, 14, 15, 16]])]\n"
     ]
    }
   ],
   "source": [
    "out=np.split(arr1,2) # will create two arrays in a list\n",
    "print(out)"
   ]
  },
  {
   "cell_type": "code",
   "execution_count": 15,
   "id": "df2d7ec1",
   "metadata": {},
   "outputs": [
    {
     "data": {
      "text/plain": [
       "list"
      ]
     },
     "execution_count": 15,
     "metadata": {},
     "output_type": "execute_result"
    }
   ],
   "source": [
    "type(out)"
   ]
  },
  {
   "cell_type": "markdown",
   "id": "7216a396",
   "metadata": {},
   "source": [
    "##### accessing array from list"
   ]
  },
  {
   "cell_type": "code",
   "execution_count": 16,
   "id": "bfecab15",
   "metadata": {},
   "outputs": [
    {
     "data": {
      "text/plain": [
       "array([[1, 2, 3, 4],\n",
       "       [5, 6, 7, 8]])"
      ]
     },
     "execution_count": 16,
     "metadata": {},
     "output_type": "execute_result"
    }
   ],
   "source": [
    "out[0] # it will an array"
   ]
  },
  {
   "cell_type": "code",
   "execution_count": 17,
   "id": "c81f6f77",
   "metadata": {},
   "outputs": [
    {
     "data": {
      "text/plain": [
       "numpy.ndarray"
      ]
     },
     "execution_count": 17,
     "metadata": {},
     "output_type": "execute_result"
    }
   ],
   "source": [
    "type(out[0]) # it will be ndarray"
   ]
  },
  {
   "cell_type": "markdown",
   "id": "09621bbe",
   "metadata": {},
   "source": [
    "###### splitting the array row wise, we have to give the axis here"
   ]
  },
  {
   "cell_type": "code",
   "execution_count": 18,
   "id": "8f53ca45",
   "metadata": {},
   "outputs": [
    {
     "name": "stdout",
     "output_type": "stream",
     "text": [
      "[array([[ 1],\n",
      "       [ 5],\n",
      "       [ 9],\n",
      "       [13]]), array([[ 2],\n",
      "       [ 6],\n",
      "       [10],\n",
      "       [14]]), array([[ 3],\n",
      "       [ 7],\n",
      "       [11],\n",
      "       [15]]), array([[ 4],\n",
      "       [ 8],\n",
      "       [12],\n",
      "       [16]])]\n"
     ]
    }
   ],
   "source": [
    "row_split=np.split(arr1,4,axis=1)\n",
    "print(row_split)"
   ]
  },
  {
   "cell_type": "code",
   "execution_count": 19,
   "id": "3bf4a6c8",
   "metadata": {},
   "outputs": [
    {
     "data": {
      "text/plain": [
       "list"
      ]
     },
     "execution_count": 19,
     "metadata": {},
     "output_type": "execute_result"
    }
   ],
   "source": [
    "type(row_split)"
   ]
  },
  {
   "cell_type": "code",
   "execution_count": 20,
   "id": "b8a3b9cf",
   "metadata": {},
   "outputs": [
    {
     "data": {
      "text/plain": [
       "array([[ 1],\n",
       "       [ 5],\n",
       "       [ 9],\n",
       "       [13]])"
      ]
     },
     "execution_count": 20,
     "metadata": {},
     "output_type": "execute_result"
    }
   ],
   "source": [
    "row_split[0]"
   ]
  },
  {
   "cell_type": "code",
   "execution_count": 21,
   "id": "4df57e93",
   "metadata": {},
   "outputs": [
    {
     "data": {
      "text/plain": [
       "numpy.ndarray"
      ]
     },
     "execution_count": 21,
     "metadata": {},
     "output_type": "execute_result"
    }
   ],
   "source": [
    "type(row_split[0])"
   ]
  },
  {
   "cell_type": "markdown",
   "id": "9f6cc9c4",
   "metadata": {},
   "source": [
    "###### splitting the 1d array into multid array"
   ]
  },
  {
   "cell_type": "code",
   "execution_count": 22,
   "id": "8dd58a13",
   "metadata": {},
   "outputs": [
    {
     "name": "stdout",
     "output_type": "stream",
     "text": [
      "[ 5 11 52 33 14 59]\n"
     ]
    }
   ],
   "source": [
    "d1=np.array([5,11,52,33,14,59])\n",
    "print(d1)"
   ]
  },
  {
   "cell_type": "markdown",
   "id": "f0e57822",
   "metadata": {},
   "source": [
    "#### creating array using list slicing\n",
    "ye ek list dega jiske index pe alg alg array hoga"
   ]
  },
  {
   "cell_type": "code",
   "execution_count": 23,
   "id": "50aff439",
   "metadata": {},
   "outputs": [
    {
     "name": "stdout",
     "output_type": "stream",
     "text": [
      "[array([5]), array([11, 52, 33]), array([14, 59])]\n"
     ]
    }
   ],
   "source": [
    "muld=np.split(d1,[1,4,])\n",
    "print(muld)"
   ]
  },
  {
   "cell_type": "code",
   "execution_count": 24,
   "id": "ccad4636",
   "metadata": {},
   "outputs": [
    {
     "data": {
      "text/plain": [
       "array([5])"
      ]
     },
     "execution_count": 24,
     "metadata": {},
     "output_type": "execute_result"
    }
   ],
   "source": [
    "muld[0]"
   ]
  },
  {
   "cell_type": "code",
   "execution_count": 25,
   "id": "03904a50",
   "metadata": {},
   "outputs": [
    {
     "data": {
      "text/plain": [
       "numpy.ndarray"
      ]
     },
     "execution_count": 25,
     "metadata": {},
     "output_type": "execute_result"
    }
   ],
   "source": [
    "type(muld[0])"
   ]
  },
  {
   "cell_type": "code",
   "execution_count": 26,
   "id": "e9cd8fe3",
   "metadata": {},
   "outputs": [
    {
     "data": {
      "text/plain": [
       "[array([11, 52, 33]), array([14, 59])]"
      ]
     },
     "execution_count": 26,
     "metadata": {},
     "output_type": "execute_result"
    }
   ],
   "source": [
    "muld[1:]"
   ]
  },
  {
   "cell_type": "code",
   "execution_count": 27,
   "id": "6f1cc3a8",
   "metadata": {},
   "outputs": [
    {
     "data": {
      "text/plain": [
       "list"
      ]
     },
     "execution_count": 27,
     "metadata": {},
     "output_type": "execute_result"
    }
   ],
   "source": [
    "type(muld[1:])"
   ]
  },
  {
   "cell_type": "code",
   "execution_count": null,
   "id": "0ac9a713",
   "metadata": {},
   "outputs": [],
   "source": []
  }
 ],
 "metadata": {
  "kernelspec": {
   "display_name": "Python 3 (ipykernel)",
   "language": "python",
   "name": "python3"
  },
  "language_info": {
   "codemirror_mode": {
    "name": "ipython",
    "version": 3
   },
   "file_extension": ".py",
   "mimetype": "text/x-python",
   "name": "python",
   "nbconvert_exporter": "python",
   "pygments_lexer": "ipython3",
   "version": "3.9.6"
  }
 },
 "nbformat": 4,
 "nbformat_minor": 5
}
