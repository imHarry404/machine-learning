{
 "cells": [
  {
   "cell_type": "code",
   "execution_count": 1,
   "id": "9979cf95",
   "metadata": {},
   "outputs": [],
   "source": [
    "import numpy as np"
   ]
  },
  {
   "cell_type": "code",
   "execution_count": 2,
   "id": "7c25c522",
   "metadata": {},
   "outputs": [],
   "source": [
    "arr_1d_zeros=np.zeros(5)"
   ]
  },
  {
   "cell_type": "code",
   "execution_count": 3,
   "id": "ff1163fd",
   "metadata": {},
   "outputs": [
    {
     "data": {
      "text/plain": [
       "array([0., 0., 0., 0., 0.])"
      ]
     },
     "execution_count": 3,
     "metadata": {},
     "output_type": "execute_result"
    }
   ],
   "source": [
    "arr_1d_zeros"
   ]
  },
  {
   "cell_type": "code",
   "execution_count": 4,
   "id": "3efb2082",
   "metadata": {},
   "outputs": [
    {
     "data": {
      "text/plain": [
       "numpy.ndarray"
      ]
     },
     "execution_count": 4,
     "metadata": {},
     "output_type": "execute_result"
    }
   ],
   "source": [
    "type(arr_1d_zeros)"
   ]
  },
  {
   "cell_type": "code",
   "execution_count": 5,
   "id": "334263b7",
   "metadata": {},
   "outputs": [
    {
     "data": {
      "text/plain": [
       "1"
      ]
     },
     "execution_count": 5,
     "metadata": {},
     "output_type": "execute_result"
    }
   ],
   "source": [
    "arr_1d_zeros.ndim"
   ]
  },
  {
   "cell_type": "code",
   "execution_count": 6,
   "id": "78c68d9f",
   "metadata": {},
   "outputs": [
    {
     "data": {
      "text/plain": [
       "5"
      ]
     },
     "execution_count": 6,
     "metadata": {},
     "output_type": "execute_result"
    }
   ],
   "source": [
    "arr_1d_zeros.size"
   ]
  },
  {
   "cell_type": "code",
   "execution_count": 7,
   "id": "9fcc61d3",
   "metadata": {},
   "outputs": [
    {
     "data": {
      "text/plain": [
       "dtype('float64')"
      ]
     },
     "execution_count": 7,
     "metadata": {},
     "output_type": "execute_result"
    }
   ],
   "source": [
    "arr_1d_zeros.dtype"
   ]
  },
  {
   "cell_type": "code",
   "execution_count": 8,
   "id": "c94d9e6d",
   "metadata": {},
   "outputs": [],
   "source": [
    "arr_1d_ones=np.ones(5)"
   ]
  },
  {
   "cell_type": "code",
   "execution_count": 9,
   "id": "82f7390d",
   "metadata": {},
   "outputs": [
    {
     "data": {
      "text/plain": [
       "array([1., 1., 1., 1., 1.])"
      ]
     },
     "execution_count": 9,
     "metadata": {},
     "output_type": "execute_result"
    }
   ],
   "source": [
    "arr_1d_ones"
   ]
  },
  {
   "cell_type": "code",
   "execution_count": 10,
   "id": "db690194",
   "metadata": {},
   "outputs": [],
   "source": [
    "# 2d array"
   ]
  },
  {
   "cell_type": "code",
   "execution_count": 11,
   "id": "c708ff7e",
   "metadata": {},
   "outputs": [],
   "source": [
    "arr_2d_zeros=np.zeros((5,4))"
   ]
  },
  {
   "cell_type": "code",
   "execution_count": 12,
   "id": "dadfc69c",
   "metadata": {},
   "outputs": [
    {
     "data": {
      "text/plain": [
       "array([[0., 0., 0., 0.],\n",
       "       [0., 0., 0., 0.],\n",
       "       [0., 0., 0., 0.],\n",
       "       [0., 0., 0., 0.],\n",
       "       [0., 0., 0., 0.]])"
      ]
     },
     "execution_count": 12,
     "metadata": {},
     "output_type": "execute_result"
    }
   ],
   "source": [
    "arr_2d_zeros"
   ]
  },
  {
   "cell_type": "code",
   "execution_count": 13,
   "id": "e3d07c74",
   "metadata": {},
   "outputs": [],
   "source": [
    "arr_2d_ones=np.ones((5,4))"
   ]
  },
  {
   "cell_type": "code",
   "execution_count": 14,
   "id": "ece2a9a5",
   "metadata": {},
   "outputs": [
    {
     "data": {
      "text/plain": [
       "array([[1., 1., 1., 1.],\n",
       "       [1., 1., 1., 1.],\n",
       "       [1., 1., 1., 1.],\n",
       "       [1., 1., 1., 1.],\n",
       "       [1., 1., 1., 1.]])"
      ]
     },
     "execution_count": 14,
     "metadata": {},
     "output_type": "execute_result"
    }
   ],
   "source": [
    "arr_2d_ones"
   ]
  },
  {
   "cell_type": "code",
   "execution_count": 15,
   "id": "d464cf60",
   "metadata": {},
   "outputs": [
    {
     "data": {
      "text/plain": [
       "20"
      ]
     },
     "execution_count": 15,
     "metadata": {},
     "output_type": "execute_result"
    }
   ],
   "source": [
    "arr_2d_ones.size"
   ]
  },
  {
   "cell_type": "code",
   "execution_count": 16,
   "id": "e10111b6",
   "metadata": {},
   "outputs": [],
   "source": [
    "arr_1d_int_zeros=np.zeros(5,'i')"
   ]
  },
  {
   "cell_type": "code",
   "execution_count": 17,
   "id": "74241fc6",
   "metadata": {},
   "outputs": [
    {
     "data": {
      "text/plain": [
       "array([0, 0, 0, 0, 0], dtype=int32)"
      ]
     },
     "execution_count": 17,
     "metadata": {},
     "output_type": "execute_result"
    }
   ],
   "source": [
    "arr_1d_int_zeros"
   ]
  },
  {
   "cell_type": "code",
   "execution_count": 18,
   "id": "488dc8d1",
   "metadata": {},
   "outputs": [],
   "source": [
    "arr_1d_char_zeros=np.zeros(5,'c')"
   ]
  },
  {
   "cell_type": "code",
   "execution_count": 19,
   "id": "afaa0657",
   "metadata": {},
   "outputs": [
    {
     "data": {
      "text/plain": [
       "array([b'', b'', b'', b'', b''], dtype='|S1')"
      ]
     },
     "execution_count": 19,
     "metadata": {},
     "output_type": "execute_result"
    }
   ],
   "source": [
    "arr_1d_char_zeros"
   ]
  },
  {
   "cell_type": "code",
   "execution_count": 20,
   "id": "7c564781",
   "metadata": {},
   "outputs": [],
   "source": [
    "arr_1d_float_zeros=np.zeros(10,'f')"
   ]
  },
  {
   "cell_type": "code",
   "execution_count": 21,
   "id": "ded48371",
   "metadata": {},
   "outputs": [
    {
     "data": {
      "text/plain": [
       "array([0., 0., 0., 0., 0., 0., 0., 0., 0., 0.], dtype=float32)"
      ]
     },
     "execution_count": 21,
     "metadata": {},
     "output_type": "execute_result"
    }
   ],
   "source": [
    "arr_1d_float_zeros"
   ]
  },
  {
   "cell_type": "code",
   "execution_count": 22,
   "id": "7ea3d61c",
   "metadata": {},
   "outputs": [],
   "source": [
    "arr2D=np.ones((5,6),dtype=bool)"
   ]
  },
  {
   "cell_type": "code",
   "execution_count": 23,
   "id": "91258249",
   "metadata": {},
   "outputs": [
    {
     "data": {
      "text/plain": [
       "array([[ True,  True,  True,  True,  True,  True],\n",
       "       [ True,  True,  True,  True,  True,  True],\n",
       "       [ True,  True,  True,  True,  True,  True],\n",
       "       [ True,  True,  True,  True,  True,  True],\n",
       "       [ True,  True,  True,  True,  True,  True]])"
      ]
     },
     "execution_count": 23,
     "metadata": {},
     "output_type": "execute_result"
    }
   ],
   "source": [
    "arr2D"
   ]
  },
  {
   "cell_type": "code",
   "execution_count": 24,
   "id": "1002a3f1",
   "metadata": {},
   "outputs": [],
   "source": [
    "arr2D=np.ones((5,6),dtype=int)"
   ]
  },
  {
   "cell_type": "code",
   "execution_count": 25,
   "id": "8a71fc73",
   "metadata": {},
   "outputs": [
    {
     "data": {
      "text/plain": [
       "array([[1, 1, 1, 1, 1, 1],\n",
       "       [1, 1, 1, 1, 1, 1],\n",
       "       [1, 1, 1, 1, 1, 1],\n",
       "       [1, 1, 1, 1, 1, 1],\n",
       "       [1, 1, 1, 1, 1, 1]])"
      ]
     },
     "execution_count": 25,
     "metadata": {},
     "output_type": "execute_result"
    }
   ],
   "source": [
    "arr2D"
   ]
  },
  {
   "cell_type": "code",
   "execution_count": 26,
   "id": "a74fcb29",
   "metadata": {},
   "outputs": [],
   "source": [
    "arr2D=np.zeros((5,6),dtype=int)"
   ]
  },
  {
   "cell_type": "code",
   "execution_count": 27,
   "id": "a18a88d1",
   "metadata": {},
   "outputs": [
    {
     "data": {
      "text/plain": [
       "array([[0, 0, 0, 0, 0, 0],\n",
       "       [0, 0, 0, 0, 0, 0],\n",
       "       [0, 0, 0, 0, 0, 0],\n",
       "       [0, 0, 0, 0, 0, 0],\n",
       "       [0, 0, 0, 0, 0, 0]])"
      ]
     },
     "execution_count": 27,
     "metadata": {},
     "output_type": "execute_result"
    }
   ],
   "source": [
    "arr2D"
   ]
  },
  {
   "cell_type": "code",
   "execution_count": 28,
   "id": "457505ee",
   "metadata": {},
   "outputs": [],
   "source": [
    "arr2D=np.ones((5,6),'S1') #'c'"
   ]
  },
  {
   "cell_type": "code",
   "execution_count": 29,
   "id": "70a98640",
   "metadata": {},
   "outputs": [
    {
     "data": {
      "text/plain": [
       "array([[b'1', b'1', b'1', b'1', b'1', b'1'],\n",
       "       [b'1', b'1', b'1', b'1', b'1', b'1'],\n",
       "       [b'1', b'1', b'1', b'1', b'1', b'1'],\n",
       "       [b'1', b'1', b'1', b'1', b'1', b'1'],\n",
       "       [b'1', b'1', b'1', b'1', b'1', b'1']], dtype='|S1')"
      ]
     },
     "execution_count": 29,
     "metadata": {},
     "output_type": "execute_result"
    }
   ],
   "source": [
    "arr2D"
   ]
  },
  {
   "cell_type": "code",
   "execution_count": 30,
   "id": "1725de54",
   "metadata": {},
   "outputs": [],
   "source": [
    "arr2dBool=np.zeros((4,7),'bool') #zeros means false,"
   ]
  },
  {
   "cell_type": "code",
   "execution_count": 31,
   "id": "8d22564a",
   "metadata": {},
   "outputs": [
    {
     "data": {
      "text/plain": [
       "array([[False, False, False, False, False, False, False],\n",
       "       [False, False, False, False, False, False, False],\n",
       "       [False, False, False, False, False, False, False],\n",
       "       [False, False, False, False, False, False, False]])"
      ]
     },
     "execution_count": 31,
     "metadata": {},
     "output_type": "execute_result"
    }
   ],
   "source": [
    "arr2dBool"
   ]
  },
  {
   "cell_type": "code",
   "execution_count": 32,
   "id": "daa15fa2",
   "metadata": {},
   "outputs": [],
   "source": [
    "arr2dBool=np.ones((4,7),'bool') #ones means true,"
   ]
  },
  {
   "cell_type": "code",
   "execution_count": 33,
   "id": "7b1ff40f",
   "metadata": {},
   "outputs": [
    {
     "data": {
      "text/plain": [
       "array([[ True,  True,  True,  True,  True,  True,  True],\n",
       "       [ True,  True,  True,  True,  True,  True,  True],\n",
       "       [ True,  True,  True,  True,  True,  True,  True],\n",
       "       [ True,  True,  True,  True,  True,  True,  True]])"
      ]
     },
     "execution_count": 33,
     "metadata": {},
     "output_type": "execute_result"
    }
   ],
   "source": [
    "arr2dBool"
   ]
  },
  {
   "cell_type": "code",
   "execution_count": 34,
   "id": "2d7b71f9",
   "metadata": {},
   "outputs": [],
   "source": [
    "arr2dStr=np.ones((5,6),'str')"
   ]
  },
  {
   "cell_type": "code",
   "execution_count": 35,
   "id": "859bd204",
   "metadata": {},
   "outputs": [
    {
     "data": {
      "text/plain": [
       "array([['1', '1', '1', '1', '1', '1'],\n",
       "       ['1', '1', '1', '1', '1', '1'],\n",
       "       ['1', '1', '1', '1', '1', '1'],\n",
       "       ['1', '1', '1', '1', '1', '1'],\n",
       "       ['1', '1', '1', '1', '1', '1']], dtype='<U1')"
      ]
     },
     "execution_count": 35,
     "metadata": {},
     "output_type": "execute_result"
    }
   ],
   "source": [
    "arr2dStr"
   ]
  },
  {
   "cell_type": "code",
   "execution_count": 36,
   "id": "9dd370d1",
   "metadata": {},
   "outputs": [],
   "source": [
    "arr2dStr=np.zeros((5,6),'str')"
   ]
  },
  {
   "cell_type": "code",
   "execution_count": 37,
   "id": "f980aad2",
   "metadata": {},
   "outputs": [
    {
     "data": {
      "text/plain": [
       "array([['', '', '', '', '', ''],\n",
       "       ['', '', '', '', '', ''],\n",
       "       ['', '', '', '', '', ''],\n",
       "       ['', '', '', '', '', ''],\n",
       "       ['', '', '', '', '', '']], dtype='<U1')"
      ]
     },
     "execution_count": 37,
     "metadata": {},
     "output_type": "execute_result"
    }
   ],
   "source": [
    "arr2dStr"
   ]
  },
  {
   "cell_type": "code",
   "execution_count": 38,
   "id": "4f48b824",
   "metadata": {},
   "outputs": [],
   "source": [
    "# empty string means false"
   ]
  },
  {
   "cell_type": "code",
   "execution_count": 39,
   "id": "49c0d3d3",
   "metadata": {},
   "outputs": [
    {
     "name": "stdout",
     "output_type": "stream",
     "text": [
      "\n"
     ]
    },
    {
     "data": {
      "text/plain": [
       "str"
      ]
     },
     "execution_count": 39,
     "metadata": {},
     "output_type": "execute_result"
    }
   ],
   "source": [
    "emp_str=''\n",
    "print(emp_str)\n",
    "type(emp_str)\n"
   ]
  },
  {
   "cell_type": "code",
   "execution_count": 40,
   "id": "1038fad1",
   "metadata": {},
   "outputs": [
    {
     "data": {
      "text/plain": [
       "False"
      ]
     },
     "execution_count": 40,
     "metadata": {},
     "output_type": "execute_result"
    }
   ],
   "source": [
    "bool(emp_str) #empty string means false"
   ]
  },
  {
   "cell_type": "code",
   "execution_count": null,
   "id": "a1102094",
   "metadata": {},
   "outputs": [],
   "source": []
  }
 ],
 "metadata": {
  "kernelspec": {
   "display_name": "Python 3 (ipykernel)",
   "language": "python",
   "name": "python3"
  },
  "language_info": {
   "codemirror_mode": {
    "name": "ipython",
    "version": 3
   },
   "file_extension": ".py",
   "mimetype": "text/x-python",
   "name": "python",
   "nbconvert_exporter": "python",
   "pygments_lexer": "ipython3",
   "version": "3.9.6"
  }
 },
 "nbformat": 4,
 "nbformat_minor": 5
}
