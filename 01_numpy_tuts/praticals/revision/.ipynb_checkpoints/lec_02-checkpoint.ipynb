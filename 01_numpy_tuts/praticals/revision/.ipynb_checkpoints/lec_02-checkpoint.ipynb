{
 "cells": [
  {
   "cell_type": "markdown",
   "id": "64f2338e",
   "metadata": {},
   "source": [
    "# importing the module"
   ]
  },
  {
   "cell_type": "code",
   "execution_count": 1,
   "id": "e61f9feb",
   "metadata": {},
   "outputs": [],
   "source": [
    "import numpy as np\n",
    "from array import *"
   ]
  },
  {
   "cell_type": "markdown",
   "id": "e58fa26b",
   "metadata": {},
   "source": [
    "### creating 1d array and performing some operation"
   ]
  },
  {
   "cell_type": "code",
   "execution_count": 2,
   "id": "c6ee8044",
   "metadata": {},
   "outputs": [],
   "source": [
    "arr_1d=np.array([1,2,3,4,5])"
   ]
  },
  {
   "cell_type": "code",
   "execution_count": 3,
   "id": "0a65c790",
   "metadata": {},
   "outputs": [
    {
     "data": {
      "text/plain": [
       "array([1, 2, 3, 4, 5])"
      ]
     },
     "execution_count": 3,
     "metadata": {},
     "output_type": "execute_result"
    }
   ],
   "source": [
    "arr_1d"
   ]
  },
  {
   "cell_type": "code",
   "execution_count": 4,
   "id": "088b0600",
   "metadata": {},
   "outputs": [
    {
     "data": {
      "text/plain": [
       "numpy.ndarray"
      ]
     },
     "execution_count": 4,
     "metadata": {},
     "output_type": "execute_result"
    }
   ],
   "source": [
    "type(arr_1d)"
   ]
  },
  {
   "cell_type": "code",
   "execution_count": 5,
   "id": "dc754deb",
   "metadata": {},
   "outputs": [
    {
     "data": {
      "text/plain": [
       "1"
      ]
     },
     "execution_count": 5,
     "metadata": {},
     "output_type": "execute_result"
    }
   ],
   "source": [
    "arr_1d.ndim"
   ]
  },
  {
   "cell_type": "code",
   "execution_count": 6,
   "id": "a509fed2",
   "metadata": {},
   "outputs": [
    {
     "data": {
      "text/plain": [
       "5"
      ]
     },
     "execution_count": 6,
     "metadata": {},
     "output_type": "execute_result"
    }
   ],
   "source": [
    "arr_1d.size"
   ]
  },
  {
   "cell_type": "code",
   "execution_count": 7,
   "id": "7916b776",
   "metadata": {},
   "outputs": [
    {
     "data": {
      "text/plain": [
       "4"
      ]
     },
     "execution_count": 7,
     "metadata": {},
     "output_type": "execute_result"
    }
   ],
   "source": [
    "arr_1d.argmax() # it will return the index of largest element"
   ]
  },
  {
   "cell_type": "code",
   "execution_count": 8,
   "id": "4c7bff85",
   "metadata": {},
   "outputs": [
    {
     "data": {
      "text/plain": [
       "0"
      ]
     },
     "execution_count": 8,
     "metadata": {},
     "output_type": "execute_result"
    }
   ],
   "source": [
    "arr_1d.argmin() # it will return the index of smallest element"
   ]
  },
  {
   "cell_type": "code",
   "execution_count": 9,
   "id": "18f5303d",
   "metadata": {},
   "outputs": [
    {
     "data": {
      "text/plain": [
       "(5,)"
      ]
     },
     "execution_count": 9,
     "metadata": {},
     "output_type": "execute_result"
    }
   ],
   "source": [
    "arr_1d.shape #this is a typle , means the size of the array (row,column)"
   ]
  },
  {
   "cell_type": "code",
   "execution_count": 10,
   "id": "f46570e4",
   "metadata": {},
   "outputs": [
    {
     "data": {
      "text/plain": [
       "dtype('int32')"
      ]
     },
     "execution_count": 10,
     "metadata": {},
     "output_type": "execute_result"
    }
   ],
   "source": [
    "arr_1d.dtype"
   ]
  },
  {
   "cell_type": "markdown",
   "id": "d39a2b59",
   "metadata": {},
   "source": [
    "### creating 2d array and performing operations"
   ]
  },
  {
   "cell_type": "code",
   "execution_count": 11,
   "id": "00558c56",
   "metadata": {},
   "outputs": [],
   "source": [
    "arr_2d=np.array([\n",
    "    [1,2,3,4 ],\n",
    "    [5,6,7,8]\n",
    "])\n",
    "# 2d array is list of list"
   ]
  },
  {
   "cell_type": "code",
   "execution_count": 12,
   "id": "0b690d93",
   "metadata": {},
   "outputs": [
    {
     "data": {
      "text/plain": [
       "array([[1, 2, 3, 4],\n",
       "       [5, 6, 7, 8]])"
      ]
     },
     "execution_count": 12,
     "metadata": {},
     "output_type": "execute_result"
    }
   ],
   "source": [
    "arr_2d"
   ]
  },
  {
   "cell_type": "code",
   "execution_count": 13,
   "id": "e264c2e7",
   "metadata": {},
   "outputs": [
    {
     "data": {
      "text/plain": [
       "8"
      ]
     },
     "execution_count": 13,
     "metadata": {},
     "output_type": "execute_result"
    }
   ],
   "source": [
    "arr_2d.size"
   ]
  },
  {
   "cell_type": "code",
   "execution_count": 14,
   "id": "e62c556b",
   "metadata": {},
   "outputs": [
    {
     "data": {
      "text/plain": [
       "2"
      ]
     },
     "execution_count": 14,
     "metadata": {},
     "output_type": "execute_result"
    }
   ],
   "source": [
    "arr_2d.ndim"
   ]
  },
  {
   "cell_type": "code",
   "execution_count": 15,
   "id": "416f7f2d",
   "metadata": {},
   "outputs": [
    {
     "data": {
      "text/plain": [
       "(2, 4)"
      ]
     },
     "execution_count": 15,
     "metadata": {},
     "output_type": "execute_result"
    }
   ],
   "source": [
    "arr_2d.shape"
   ]
  },
  {
   "cell_type": "code",
   "execution_count": 16,
   "id": "b0ad6344",
   "metadata": {},
   "outputs": [
    {
     "data": {
      "text/plain": [
       "0"
      ]
     },
     "execution_count": 16,
     "metadata": {},
     "output_type": "execute_result"
    }
   ],
   "source": [
    "arr_2d.argmin()"
   ]
  },
  {
   "cell_type": "code",
   "execution_count": 17,
   "id": "ef37b28e",
   "metadata": {},
   "outputs": [
    {
     "data": {
      "text/plain": [
       "7"
      ]
     },
     "execution_count": 17,
     "metadata": {},
     "output_type": "execute_result"
    }
   ],
   "source": [
    "arr_2d.argmax()"
   ]
  },
  {
   "cell_type": "code",
   "execution_count": 23,
   "id": "da2a21b7",
   "metadata": {},
   "outputs": [
    {
     "data": {
      "text/plain": [
       "dtype('int32')"
      ]
     },
     "execution_count": 23,
     "metadata": {},
     "output_type": "execute_result"
    }
   ],
   "source": [
    "arr_2d.dtype"
   ]
  },
  {
   "cell_type": "markdown",
   "id": "cc7b48b9",
   "metadata": {},
   "source": [
    "#### using inbuilt array"
   ]
  },
  {
   "cell_type": "code",
   "execution_count": 18,
   "id": "e927b107",
   "metadata": {},
   "outputs": [],
   "source": [
    "arr=array('i',[2,5,7,8,9])"
   ]
  },
  {
   "cell_type": "code",
   "execution_count": 19,
   "id": "73fdcc85",
   "metadata": {},
   "outputs": [
    {
     "data": {
      "text/plain": [
       "array('i', [2, 5, 7, 8, 9])"
      ]
     },
     "execution_count": 19,
     "metadata": {},
     "output_type": "execute_result"
    }
   ],
   "source": [
    "arr"
   ]
  },
  {
   "cell_type": "code",
   "execution_count": 20,
   "id": "5f3cdcdb",
   "metadata": {},
   "outputs": [
    {
     "name": "stdout",
     "output_type": "stream",
     "text": [
      "2\n",
      "5\n",
      "7\n",
      "8\n",
      "9\n"
     ]
    }
   ],
   "source": [
    "for data in arr:\n",
    "    print(data)"
   ]
  },
  {
   "cell_type": "code",
   "execution_count": 21,
   "id": "35b41879",
   "metadata": {},
   "outputs": [
    {
     "data": {
      "text/plain": [
       "5"
      ]
     },
     "execution_count": 21,
     "metadata": {},
     "output_type": "execute_result"
    }
   ],
   "source": [
    "len(arr)"
   ]
  },
  {
   "cell_type": "code",
   "execution_count": null,
   "id": "f00413ad",
   "metadata": {},
   "outputs": [],
   "source": []
  },
  {
   "cell_type": "code",
   "execution_count": null,
   "id": "2a9ebeb4",
   "metadata": {},
   "outputs": [],
   "source": []
  }
 ],
 "metadata": {
  "kernelspec": {
   "display_name": "Python 3 (ipykernel)",
   "language": "python",
   "name": "python3"
  },
  "language_info": {
   "codemirror_mode": {
    "name": "ipython",
    "version": 3
   },
   "file_extension": ".py",
   "mimetype": "text/x-python",
   "name": "python",
   "nbconvert_exporter": "python",
   "pygments_lexer": "ipython3",
   "version": "3.9.6"
  }
 },
 "nbformat": 4,
 "nbformat_minor": 5
}
