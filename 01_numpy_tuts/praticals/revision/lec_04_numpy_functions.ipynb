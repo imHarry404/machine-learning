{
 "cells": [
  {
   "cell_type": "markdown",
   "id": "6942cb39",
   "metadata": {},
   "source": [
    "# numpy  functions"
   ]
  },
  {
   "cell_type": "code",
   "execution_count": 1,
   "id": "b3abc3db",
   "metadata": {},
   "outputs": [],
   "source": [
    "import numpy as np"
   ]
  },
  {
   "cell_type": "markdown",
   "id": "580245b1",
   "metadata": {},
   "source": [
    "### arange()\n",
    "numpy.arange([start, ]stop, [step, ]dtype=None, *, like=None)\n",
    "\n",
    "Return evenly spaced values within a given interval."
   ]
  },
  {
   "cell_type": "code",
   "execution_count": 2,
   "id": "63362f5b",
   "metadata": {},
   "outputs": [
    {
     "data": {
      "text/plain": [
       "array([1, 2, 3, 4, 5, 6, 7, 8, 9])"
      ]
     },
     "execution_count": 2,
     "metadata": {},
     "output_type": "execute_result"
    }
   ],
   "source": [
    "arr1d=np.arange(1,10)\n",
    "arr1d"
   ]
  },
  {
   "cell_type": "code",
   "execution_count": 3,
   "id": "3e324f73",
   "metadata": {},
   "outputs": [
    {
     "data": {
      "text/plain": [
       "array([1, 3, 5, 7, 9])"
      ]
     },
     "execution_count": 3,
     "metadata": {},
     "output_type": "execute_result"
    }
   ],
   "source": [
    "arr1d=np.arange(1,10,2) #with 2 steps\n",
    "arr1d"
   ]
  },
  {
   "cell_type": "code",
   "execution_count": 4,
   "id": "584727c9",
   "metadata": {},
   "outputs": [
    {
     "data": {
      "text/plain": [
       "5"
      ]
     },
     "execution_count": 4,
     "metadata": {},
     "output_type": "execute_result"
    }
   ],
   "source": [
    "arr1d.size"
   ]
  },
  {
   "cell_type": "code",
   "execution_count": 5,
   "id": "b0f8a814",
   "metadata": {},
   "outputs": [
    {
     "data": {
      "text/plain": [
       "1"
      ]
     },
     "execution_count": 5,
     "metadata": {},
     "output_type": "execute_result"
    }
   ],
   "source": [
    "arr1d.ndim"
   ]
  },
  {
   "cell_type": "code",
   "execution_count": 6,
   "id": "de9fb959",
   "metadata": {},
   "outputs": [
    {
     "data": {
      "text/plain": [
       "(5,)"
      ]
     },
     "execution_count": 6,
     "metadata": {},
     "output_type": "execute_result"
    }
   ],
   "source": [
    "arr1d.shape"
   ]
  },
  {
   "cell_type": "code",
   "execution_count": 7,
   "id": "773b7f86",
   "metadata": {},
   "outputs": [],
   "source": [
    "evenarr=np.arange(2,50,2) #from 2 to 49 with 2 steps"
   ]
  },
  {
   "cell_type": "code",
   "execution_count": 8,
   "id": "d3e08bc4",
   "metadata": {},
   "outputs": [
    {
     "data": {
      "text/plain": [
       "array([ 2,  4,  6,  8, 10, 12, 14, 16, 18, 20, 22, 24, 26, 28, 30, 32, 34,\n",
       "       36, 38, 40, 42, 44, 46, 48])"
      ]
     },
     "execution_count": 8,
     "metadata": {},
     "output_type": "execute_result"
    }
   ],
   "source": [
    "evenarr"
   ]
  },
  {
   "cell_type": "markdown",
   "id": "e0ef1fb3",
   "metadata": {},
   "source": [
    "### linspace()\n",
    "numpy.linspace\n",
    "numpy.linspace(start, stop, num=50, endpoint=True, retstep=False, dtype=None, axis=0)[source]\n",
    "Return evenly spaced numbers over a specified interval.\n",
    "\n",
    "Returns num evenly spaced samples, calculated over the interval [start, stop].\n",
    "\n",
    "The endpoint of the interval can optionally be excluded.\n",
    "mtlb diya hua value ke bich me same difference no generate krke dega\n",
    "(2,4,10) mtlb 2 se 4 ke bich me 10 value dega ekdum same difference ke sath"
   ]
  },
  {
   "cell_type": "code",
   "execution_count": 9,
   "id": "7fcb6f9f",
   "metadata": {},
   "outputs": [],
   "source": [
    "arrlin=np.linspace(2,4)"
   ]
  },
  {
   "cell_type": "code",
   "execution_count": 10,
   "id": "69b9bab6",
   "metadata": {},
   "outputs": [
    {
     "data": {
      "text/plain": [
       "array([2.        , 2.04081633, 2.08163265, 2.12244898, 2.16326531,\n",
       "       2.20408163, 2.24489796, 2.28571429, 2.32653061, 2.36734694,\n",
       "       2.40816327, 2.44897959, 2.48979592, 2.53061224, 2.57142857,\n",
       "       2.6122449 , 2.65306122, 2.69387755, 2.73469388, 2.7755102 ,\n",
       "       2.81632653, 2.85714286, 2.89795918, 2.93877551, 2.97959184,\n",
       "       3.02040816, 3.06122449, 3.10204082, 3.14285714, 3.18367347,\n",
       "       3.2244898 , 3.26530612, 3.30612245, 3.34693878, 3.3877551 ,\n",
       "       3.42857143, 3.46938776, 3.51020408, 3.55102041, 3.59183673,\n",
       "       3.63265306, 3.67346939, 3.71428571, 3.75510204, 3.79591837,\n",
       "       3.83673469, 3.87755102, 3.91836735, 3.95918367, 4.        ])"
      ]
     },
     "execution_count": 10,
     "metadata": {},
     "output_type": "execute_result"
    }
   ],
   "source": [
    "arrlin"
   ]
  },
  {
   "cell_type": "code",
   "execution_count": 11,
   "id": "746ff2b5",
   "metadata": {},
   "outputs": [],
   "source": [
    "arrlin=np.linspace(2,4,100) #ye 2 se 4 ke bich me 100 value dega with same difference"
   ]
  },
  {
   "cell_type": "code",
   "execution_count": 12,
   "id": "482ff073",
   "metadata": {},
   "outputs": [
    {
     "data": {
      "text/plain": [
       "array([2.        , 2.02020202, 2.04040404, 2.06060606, 2.08080808,\n",
       "       2.1010101 , 2.12121212, 2.14141414, 2.16161616, 2.18181818,\n",
       "       2.2020202 , 2.22222222, 2.24242424, 2.26262626, 2.28282828,\n",
       "       2.3030303 , 2.32323232, 2.34343434, 2.36363636, 2.38383838,\n",
       "       2.4040404 , 2.42424242, 2.44444444, 2.46464646, 2.48484848,\n",
       "       2.50505051, 2.52525253, 2.54545455, 2.56565657, 2.58585859,\n",
       "       2.60606061, 2.62626263, 2.64646465, 2.66666667, 2.68686869,\n",
       "       2.70707071, 2.72727273, 2.74747475, 2.76767677, 2.78787879,\n",
       "       2.80808081, 2.82828283, 2.84848485, 2.86868687, 2.88888889,\n",
       "       2.90909091, 2.92929293, 2.94949495, 2.96969697, 2.98989899,\n",
       "       3.01010101, 3.03030303, 3.05050505, 3.07070707, 3.09090909,\n",
       "       3.11111111, 3.13131313, 3.15151515, 3.17171717, 3.19191919,\n",
       "       3.21212121, 3.23232323, 3.25252525, 3.27272727, 3.29292929,\n",
       "       3.31313131, 3.33333333, 3.35353535, 3.37373737, 3.39393939,\n",
       "       3.41414141, 3.43434343, 3.45454545, 3.47474747, 3.49494949,\n",
       "       3.51515152, 3.53535354, 3.55555556, 3.57575758, 3.5959596 ,\n",
       "       3.61616162, 3.63636364, 3.65656566, 3.67676768, 3.6969697 ,\n",
       "       3.71717172, 3.73737374, 3.75757576, 3.77777778, 3.7979798 ,\n",
       "       3.81818182, 3.83838384, 3.85858586, 3.87878788, 3.8989899 ,\n",
       "       3.91919192, 3.93939394, 3.95959596, 3.97979798, 4.        ])"
      ]
     },
     "execution_count": 12,
     "metadata": {},
     "output_type": "execute_result"
    }
   ],
   "source": [
    "arrlin"
   ]
  },
  {
   "cell_type": "code",
   "execution_count": 13,
   "id": "d7d8afbc",
   "metadata": {},
   "outputs": [],
   "source": [
    "arrlin=np.linspace(2,20,10)"
   ]
  },
  {
   "cell_type": "code",
   "execution_count": 14,
   "id": "563282f4",
   "metadata": {},
   "outputs": [
    {
     "data": {
      "text/plain": [
       "array([ 2.,  4.,  6.,  8., 10., 12., 14., 16., 18., 20.])"
      ]
     },
     "execution_count": 14,
     "metadata": {},
     "output_type": "execute_result"
    }
   ],
   "source": [
    "arrlin"
   ]
  },
  {
   "cell_type": "code",
   "execution_count": 15,
   "id": "51864952",
   "metadata": {},
   "outputs": [],
   "source": [
    "arrlin=np.linspace(2,20,10,)"
   ]
  },
  {
   "cell_type": "code",
   "execution_count": 16,
   "id": "2c14ef06",
   "metadata": {},
   "outputs": [
    {
     "data": {
      "text/plain": [
       "array([ 2.,  4.,  6.,  8., 10., 12., 14., 16., 18., 20.])"
      ]
     },
     "execution_count": 16,
     "metadata": {},
     "output_type": "execute_result"
    }
   ],
   "source": [
    "arrlin"
   ]
  },
  {
   "cell_type": "markdown",
   "id": "79bce090",
   "metadata": {},
   "source": [
    "### reshape() arr.reshape(row,column)  --> for 3d--> arr.reshape(3d,2d,1d)\n",
    "Gives a new shape to an array without changing its data.\n",
    "It is not always possible to change the shape of an array without copying the data. If you want an error to be raised when the data is copied, you should assign the new shape to the shape attribute of the array:"
   ]
  },
  {
   "cell_type": "code",
   "execution_count": 17,
   "id": "b9619aa9",
   "metadata": {},
   "outputs": [
    {
     "data": {
      "text/plain": [
       "array([ 2,  5,  8, 11, 14, 17])"
      ]
     },
     "execution_count": 17,
     "metadata": {},
     "output_type": "execute_result"
    }
   ],
   "source": [
    "original_arr1d=np.arange(2,20,3)\n",
    "original_arr1d"
   ]
  },
  {
   "cell_type": "code",
   "execution_count": 18,
   "id": "449a743e",
   "metadata": {},
   "outputs": [
    {
     "data": {
      "text/plain": [
       "6"
      ]
     },
     "execution_count": 18,
     "metadata": {},
     "output_type": "execute_result"
    }
   ],
   "source": [
    "original_arr1d.size "
   ]
  },
  {
   "cell_type": "markdown",
   "id": "9337d56a",
   "metadata": {},
   "source": [
    "####  as the size is six so that we can reshape it into another dimension like 2x3, 3x2, 1x6, 6x1, 3x2x1, 1x2x3, 2x3x1, 3x1x2 these are all possible shapes"
   ]
  },
  {
   "cell_type": "code",
   "execution_count": 19,
   "id": "ae5ab0d4",
   "metadata": {},
   "outputs": [
    {
     "data": {
      "text/plain": [
       "array([[ 2,  5,  8],\n",
       "       [11, 14, 17]])"
      ]
     },
     "execution_count": 19,
     "metadata": {},
     "output_type": "execute_result"
    }
   ],
   "source": [
    "original_arr1d.reshape(2,3)"
   ]
  },
  {
   "cell_type": "code",
   "execution_count": 20,
   "id": "b58ef542",
   "metadata": {},
   "outputs": [
    {
     "data": {
      "text/plain": [
       "array([[ 2,  5],\n",
       "       [ 8, 11],\n",
       "       [14, 17]])"
      ]
     },
     "execution_count": 20,
     "metadata": {},
     "output_type": "execute_result"
    }
   ],
   "source": [
    "original_arr1d.reshape(3,2)"
   ]
  },
  {
   "cell_type": "code",
   "execution_count": 21,
   "id": "a2903557",
   "metadata": {},
   "outputs": [
    {
     "data": {
      "text/plain": [
       "array([[ 2,  5,  8, 11, 14, 17]])"
      ]
     },
     "execution_count": 21,
     "metadata": {},
     "output_type": "execute_result"
    }
   ],
   "source": [
    "original_arr1d.reshape(1,6)"
   ]
  },
  {
   "cell_type": "code",
   "execution_count": 22,
   "id": "ea2ec437",
   "metadata": {},
   "outputs": [
    {
     "data": {
      "text/plain": [
       "array([[ 2],\n",
       "       [ 5],\n",
       "       [ 8],\n",
       "       [11],\n",
       "       [14],\n",
       "       [17]])"
      ]
     },
     "execution_count": 22,
     "metadata": {},
     "output_type": "execute_result"
    }
   ],
   "source": [
    "original_arr1d.reshape(6,1)"
   ]
  },
  {
   "cell_type": "code",
   "execution_count": 23,
   "id": "a957fb48",
   "metadata": {},
   "outputs": [
    {
     "data": {
      "text/plain": [
       "array([[[ 2,  5,  8],\n",
       "        [11, 14, 17]]])"
      ]
     },
     "execution_count": 23,
     "metadata": {},
     "output_type": "execute_result"
    }
   ],
   "source": [
    "original_arr1d.reshape(1,2,3)"
   ]
  },
  {
   "cell_type": "code",
   "execution_count": 24,
   "id": "93103c18",
   "metadata": {},
   "outputs": [
    {
     "data": {
      "text/plain": [
       "array([[[ 2,  5],\n",
       "        [ 8, 11],\n",
       "        [14, 17]]])"
      ]
     },
     "execution_count": 24,
     "metadata": {},
     "output_type": "execute_result"
    }
   ],
   "source": [
    "original_arr1d.reshape(1,3,2)"
   ]
  },
  {
   "cell_type": "code",
   "execution_count": 25,
   "id": "7dac406e",
   "metadata": {},
   "outputs": [
    {
     "data": {
      "text/plain": [
       "array([[[ 2,  5,  8]],\n",
       "\n",
       "       [[11, 14, 17]]])"
      ]
     },
     "execution_count": 25,
     "metadata": {},
     "output_type": "execute_result"
    }
   ],
   "source": [
    "original_arr1d.reshape(2,1,3)"
   ]
  },
  {
   "cell_type": "code",
   "execution_count": 26,
   "id": "3f0fe983",
   "metadata": {},
   "outputs": [
    {
     "data": {
      "text/plain": [
       "array([[[ 2],\n",
       "        [ 5],\n",
       "        [ 8]],\n",
       "\n",
       "       [[11],\n",
       "        [14],\n",
       "        [17]]])"
      ]
     },
     "execution_count": 26,
     "metadata": {},
     "output_type": "execute_result"
    }
   ],
   "source": [
    "original_arr1d.reshape(2,3,1)"
   ]
  },
  {
   "cell_type": "code",
   "execution_count": 27,
   "id": "560c3239",
   "metadata": {},
   "outputs": [
    {
     "data": {
      "text/plain": [
       "array([[[ 2,  5]],\n",
       "\n",
       "       [[ 8, 11]],\n",
       "\n",
       "       [[14, 17]]])"
      ]
     },
     "execution_count": 27,
     "metadata": {},
     "output_type": "execute_result"
    }
   ],
   "source": [
    "original_arr1d.reshape(3,1,2)"
   ]
  },
  {
   "cell_type": "code",
   "execution_count": 28,
   "id": "63bf5aaa",
   "metadata": {},
   "outputs": [
    {
     "data": {
      "text/plain": [
       "array([[[ 2],\n",
       "        [ 5]],\n",
       "\n",
       "       [[ 8],\n",
       "        [11]],\n",
       "\n",
       "       [[14],\n",
       "        [17]]])"
      ]
     },
     "execution_count": 28,
     "metadata": {},
     "output_type": "execute_result"
    }
   ],
   "source": [
    "original_arr1d.reshape(3,2,1)"
   ]
  },
  {
   "cell_type": "code",
   "execution_count": 29,
   "id": "c12822bd",
   "metadata": {},
   "outputs": [],
   "source": [
    "a = np.arange(36).reshape((2,6,3))"
   ]
  },
  {
   "cell_type": "code",
   "execution_count": 30,
   "id": "7a793354",
   "metadata": {},
   "outputs": [
    {
     "data": {
      "text/plain": [
       "array([[[ 0,  1,  2],\n",
       "        [ 3,  4,  5],\n",
       "        [ 6,  7,  8],\n",
       "        [ 9, 10, 11],\n",
       "        [12, 13, 14],\n",
       "        [15, 16, 17]],\n",
       "\n",
       "       [[18, 19, 20],\n",
       "        [21, 22, 23],\n",
       "        [24, 25, 26],\n",
       "        [27, 28, 29],\n",
       "        [30, 31, 32],\n",
       "        [33, 34, 35]]])"
      ]
     },
     "execution_count": 30,
     "metadata": {},
     "output_type": "execute_result"
    }
   ],
   "source": [
    "a"
   ]
  },
  {
   "cell_type": "markdown",
   "id": "82aabd8f",
   "metadata": {},
   "source": [
    "### ndarray.flat\n",
    "### 1-D iterator over an array.\n",
    "\n",
    "### ndarray.flatten\n",
    "### 1-D array copy of the elements of an array in row-major order.\n",
    "\n",
    "### ndarray.reshape\n",
    "### Change the shape of an array without changing its data."
   ]
  },
  {
   "cell_type": "markdown",
   "id": "b261f5a3",
   "metadata": {},
   "source": [
    "### ravel()\n",
    "#### multi d array ko 1d me convert krta hai\n",
    "numpy.ravel\n",
    "numpy.ravel(a, order='C')[source]\n",
    "Return a contiguous flattened array.\n",
    "\n",
    "A 1-D array, containing the elements of the input, is returned. A copy is made only if needed.\n",
    "\n",
    "As of NumPy 1.10, the returned array will have the same type as the input array. (for example, a masked array will be returned for a masked array input)"
   ]
  },
  {
   "cell_type": "code",
   "execution_count": 31,
   "id": "81d2b724",
   "metadata": {},
   "outputs": [],
   "source": [
    "a = np.arange(10).reshape((5,2))"
   ]
  },
  {
   "cell_type": "code",
   "execution_count": 32,
   "id": "bfebcded",
   "metadata": {},
   "outputs": [
    {
     "data": {
      "text/plain": [
       "array([[0, 1],\n",
       "       [2, 3],\n",
       "       [4, 5],\n",
       "       [6, 7],\n",
       "       [8, 9]])"
      ]
     },
     "execution_count": 32,
     "metadata": {},
     "output_type": "execute_result"
    }
   ],
   "source": [
    "a"
   ]
  },
  {
   "cell_type": "code",
   "execution_count": 33,
   "id": "a657cb90",
   "metadata": {},
   "outputs": [
    {
     "data": {
      "text/plain": [
       "array([0, 1, 2, 3, 4, 5, 6, 7, 8, 9])"
      ]
     },
     "execution_count": 33,
     "metadata": {},
     "output_type": "execute_result"
    }
   ],
   "source": [
    "a.ravel()"
   ]
  },
  {
   "cell_type": "markdown",
   "id": "9342c57b",
   "metadata": {},
   "source": [
    "### flattern()\n",
    "ndarray.flatten(order='C')\n",
    "Return a copy of the array collapsed into one dimension."
   ]
  },
  {
   "cell_type": "code",
   "execution_count": 34,
   "id": "7de82132",
   "metadata": {},
   "outputs": [],
   "source": [
    "a = np.arange(30).reshape((5,2,3))"
   ]
  },
  {
   "cell_type": "code",
   "execution_count": 35,
   "id": "252c7dfd",
   "metadata": {},
   "outputs": [
    {
     "data": {
      "text/plain": [
       "array([[[ 0,  1,  2],\n",
       "        [ 3,  4,  5]],\n",
       "\n",
       "       [[ 6,  7,  8],\n",
       "        [ 9, 10, 11]],\n",
       "\n",
       "       [[12, 13, 14],\n",
       "        [15, 16, 17]],\n",
       "\n",
       "       [[18, 19, 20],\n",
       "        [21, 22, 23]],\n",
       "\n",
       "       [[24, 25, 26],\n",
       "        [27, 28, 29]]])"
      ]
     },
     "execution_count": 35,
     "metadata": {},
     "output_type": "execute_result"
    }
   ],
   "source": [
    "a"
   ]
  },
  {
   "cell_type": "code",
   "execution_count": 36,
   "id": "2bf1ee56",
   "metadata": {},
   "outputs": [
    {
     "data": {
      "text/plain": [
       "array([ 0,  1,  2,  3,  4,  5,  6,  7,  8,  9, 10, 11, 12, 13, 14, 15, 16,\n",
       "       17, 18, 19, 20, 21, 22, 23, 24, 25, 26, 27, 28, 29])"
      ]
     },
     "execution_count": 36,
     "metadata": {},
     "output_type": "execute_result"
    }
   ],
   "source": [
    "a.flatten()"
   ]
  },
  {
   "cell_type": "markdown",
   "id": "a82c3fa6",
   "metadata": {},
   "source": [
    "### transpose row ko column and column ko row me\n",
    "numpy.transpose(a, axes=None)[source]\n",
    "Reverse or permute the axes of an array; returns the modified array.\n",
    "\n",
    "For an array a with two axes, transpose(a) gives the matrix transpose.\n",
    "\n",
    "Refer to numpy.ndarray.transpose for full documentation."
   ]
  },
  {
   "cell_type": "code",
   "execution_count": 37,
   "id": "6f2acbc5",
   "metadata": {},
   "outputs": [],
   "source": [
    "a = np.arange(10).reshape((5,2))"
   ]
  },
  {
   "cell_type": "code",
   "execution_count": 38,
   "id": "57cc0446",
   "metadata": {},
   "outputs": [
    {
     "data": {
      "text/plain": [
       "array([[0, 1],\n",
       "       [2, 3],\n",
       "       [4, 5],\n",
       "       [6, 7],\n",
       "       [8, 9]])"
      ]
     },
     "execution_count": 38,
     "metadata": {},
     "output_type": "execute_result"
    }
   ],
   "source": [
    "a"
   ]
  },
  {
   "cell_type": "code",
   "execution_count": 39,
   "id": "6238f2da",
   "metadata": {},
   "outputs": [
    {
     "data": {
      "text/plain": [
       "(5, 2)"
      ]
     },
     "execution_count": 39,
     "metadata": {},
     "output_type": "execute_result"
    }
   ],
   "source": [
    "a.shape"
   ]
  },
  {
   "cell_type": "code",
   "execution_count": 40,
   "id": "832ae90d",
   "metadata": {},
   "outputs": [],
   "source": [
    "b=a.transpose()"
   ]
  },
  {
   "cell_type": "code",
   "execution_count": 41,
   "id": "9f5f157c",
   "metadata": {},
   "outputs": [
    {
     "data": {
      "text/plain": [
       "array([[0, 2, 4, 6, 8],\n",
       "       [1, 3, 5, 7, 9]])"
      ]
     },
     "execution_count": 41,
     "metadata": {},
     "output_type": "execute_result"
    }
   ],
   "source": [
    "b"
   ]
  },
  {
   "cell_type": "code",
   "execution_count": 42,
   "id": "be7180d6",
   "metadata": {},
   "outputs": [
    {
     "data": {
      "text/plain": [
       "(2, 5)"
      ]
     },
     "execution_count": 42,
     "metadata": {},
     "output_type": "execute_result"
    }
   ],
   "source": [
    "b.shape"
   ]
  },
  {
   "cell_type": "code",
   "execution_count": 48,
   "id": "40210e8b",
   "metadata": {},
   "outputs": [],
   "source": [
    "a=b.T #T is also used to transpose the matrix"
   ]
  },
  {
   "cell_type": "code",
   "execution_count": 46,
   "id": "71662f7a",
   "metadata": {},
   "outputs": [
    {
     "data": {
      "text/plain": [
       "array([[0, 1],\n",
       "       [2, 3],\n",
       "       [4, 5],\n",
       "       [6, 7],\n",
       "       [8, 9]])"
      ]
     },
     "execution_count": 46,
     "metadata": {},
     "output_type": "execute_result"
    }
   ],
   "source": [
    "a"
   ]
  },
  {
   "cell_type": "code",
   "execution_count": 47,
   "id": "ae5b1702",
   "metadata": {},
   "outputs": [
    {
     "data": {
      "text/plain": [
       "(5, 2)"
      ]
     },
     "execution_count": 47,
     "metadata": {},
     "output_type": "execute_result"
    }
   ],
   "source": [
    "a.shape"
   ]
  },
  {
   "cell_type": "code",
   "execution_count": null,
   "id": "ba75f086",
   "metadata": {},
   "outputs": [],
   "source": []
  }
 ],
 "metadata": {
  "kernelspec": {
   "display_name": "Python 3 (ipykernel)",
   "language": "python",
   "name": "python3"
  },
  "language_info": {
   "codemirror_mode": {
    "name": "ipython",
    "version": 3
   },
   "file_extension": ".py",
   "mimetype": "text/x-python",
   "name": "python",
   "nbconvert_exporter": "python",
   "pygments_lexer": "ipython3",
   "version": "3.9.6"
  }
 },
 "nbformat": 4,
 "nbformat_minor": 5
}
