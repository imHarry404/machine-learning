{
 "cells": [
  {
   "cell_type": "markdown",
   "id": "7da4d72c",
   "metadata": {},
   "source": [
    "#  Python NumPy array concatenation and split"
   ]
  },
  {
   "cell_type": "code",
   "execution_count": 1,
   "id": "bc5853c4",
   "metadata": {},
   "outputs": [],
   "source": [
    "import numpy as np"
   ]
  },
  {
   "cell_type": "markdown",
   "id": "4a31ec02",
   "metadata": {},
   "source": [
    "the list can be concatenate using + but array cann't"
   ]
  },
  {
   "cell_type": "code",
   "execution_count": 2,
   "id": "f4581032",
   "metadata": {},
   "outputs": [
    {
     "name": "stdout",
     "output_type": "stream",
     "text": [
      "first array\n",
      " [[ 1  2  3  4]\n",
      " [ 5  6  7  8]\n",
      " [ 9 10 11 12]\n",
      " [13 14 15 16]]\n",
      "\n",
      "second array\n",
      " [[17 18 19 20]\n",
      " [21 22 23 24]\n",
      " [25 26 27 28]\n",
      " [29 30 31 32]]\n"
     ]
    }
   ],
   "source": [
    "arr1=np.arange(1,17).reshape(4,4)\n",
    "print(f'first array\\n {arr1}')\n",
    "print()\n",
    "arr2=np.arange(17,33).reshape(4,4)\n",
    "print(f'second array\\n {arr2}')"
   ]
  },
  {
   "cell_type": "code",
   "execution_count": 3,
   "id": "f2745e4e",
   "metadata": {},
   "outputs": [
    {
     "name": "stdout",
     "output_type": "stream",
     "text": [
      "[1, 2, 3] [4, 5, 6]\n"
     ]
    }
   ],
   "source": [
    "lst1=[1,2,3]\n",
    "lst2=[4,5,6]\n",
    "print(lst1,lst2)"
   ]
  },
  {
   "cell_type": "markdown",
   "id": "6221cc1e",
   "metadata": {},
   "source": [
    "concatinating this two strings using + operator"
   ]
  },
  {
   "cell_type": "code",
   "execution_count": 4,
   "id": "cbb70aec",
   "metadata": {},
   "outputs": [
    {
     "data": {
      "text/plain": [
       "[1, 2, 3, 4, 5, 6]"
      ]
     },
     "execution_count": 4,
     "metadata": {},
     "output_type": "execute_result"
    }
   ],
   "source": [
    "lst1+lst2"
   ]
  },
  {
   "cell_type": "markdown",
   "id": "19cf39bf",
   "metadata": {},
   "source": [
    "if we try to concatenate the array like this it will be the sum of array by elements"
   ]
  },
  {
   "cell_type": "markdown",
   "id": "a4dfa59c",
   "metadata": {},
   "source": [
    "/*to concatenate the array we have to use the np.concatenate() method */"
   ]
  },
  {
   "cell_type": "code",
   "execution_count": 5,
   "id": "787650c4",
   "metadata": {},
   "outputs": [
    {
     "data": {
      "text/plain": [
       "array([[ 1,  2,  3,  4],\n",
       "       [ 5,  6,  7,  8],\n",
       "       [ 9, 10, 11, 12],\n",
       "       [13, 14, 15, 16],\n",
       "       [17, 18, 19, 20],\n",
       "       [21, 22, 23, 24],\n",
       "       [25, 26, 27, 28],\n",
       "       [29, 30, 31, 32]])"
      ]
     },
     "execution_count": 5,
     "metadata": {},
     "output_type": "execute_result"
    }
   ],
   "source": [
    "np.concatenate((arr1,arr2))\n",
    "# it will be column wise concatenation becuase default axis is 0"
   ]
  },
  {
   "cell_type": "markdown",
   "id": "e1225985",
   "metadata": {},
   "source": [
    "row wise concatenation"
   ]
  },
  {
   "cell_type": "code",
   "execution_count": 6,
   "id": "c04f59d7",
   "metadata": {},
   "outputs": [
    {
     "data": {
      "text/plain": [
       "array([[ 1,  2,  3,  4, 17, 18, 19, 20],\n",
       "       [ 5,  6,  7,  8, 21, 22, 23, 24],\n",
       "       [ 9, 10, 11, 12, 25, 26, 27, 28],\n",
       "       [13, 14, 15, 16, 29, 30, 31, 32]])"
      ]
     },
     "execution_count": 6,
     "metadata": {},
     "output_type": "execute_result"
    }
   ],
   "source": [
    "np.concatenate((arr1,arr2),axis=1)\n",
    "# it will be row wise concatenation becuase  axis is 1"
   ]
  },
  {
   "cell_type": "markdown",
   "id": "037459d3",
   "metadata": {},
   "source": [
    "we can use another method to concatenate the array as vertically or horizontally"
   ]
  },
  {
   "cell_type": "code",
   "execution_count": 7,
   "id": "96d31088",
   "metadata": {},
   "outputs": [
    {
     "data": {
      "text/plain": [
       "array([[ 1,  2,  3,  4],\n",
       "       [ 5,  6,  7,  8],\n",
       "       [ 9, 10, 11, 12],\n",
       "       [13, 14, 15, 16],\n",
       "       [17, 18, 19, 20],\n",
       "       [21, 22, 23, 24],\n",
       "       [25, 26, 27, 28],\n",
       "       [29, 30, 31, 32]])"
      ]
     },
     "execution_count": 7,
     "metadata": {},
     "output_type": "execute_result"
    }
   ],
   "source": [
    "np.vstack((arr1,arr2))"
   ]
  },
  {
   "cell_type": "code",
   "execution_count": 8,
   "id": "4e3a9f8d",
   "metadata": {},
   "outputs": [
    {
     "data": {
      "text/plain": [
       "array([[ 1,  2,  3,  4, 17, 18, 19, 20],\n",
       "       [ 5,  6,  7,  8, 21, 22, 23, 24],\n",
       "       [ 9, 10, 11, 12, 25, 26, 27, 28],\n",
       "       [13, 14, 15, 16, 29, 30, 31, 32]])"
      ]
     },
     "execution_count": 8,
     "metadata": {},
     "output_type": "execute_result"
    }
   ],
   "source": [
    "np.hstack((arr1,arr2))"
   ]
  },
  {
   "cell_type": "markdown",
   "id": "eb318259",
   "metadata": {},
   "source": [
    "np.split(), this method is used to broke or divide the array into parts by using given seperator\n",
    "default axis is 0 so it will split by column\n",
    "it will split the array in given parts in the list form and elements will np.ndarray"
   ]
  },
  {
   "cell_type": "code",
   "execution_count": 9,
   "id": "a83cb636",
   "metadata": {},
   "outputs": [
    {
     "name": "stdout",
     "output_type": "stream",
     "text": [
      "[array([[1, 2, 3, 4],\n",
      "       [5, 6, 7, 8]]), array([[ 9, 10, 11, 12],\n",
      "       [13, 14, 15, 16]])]\n"
     ]
    }
   ],
   "source": [
    "a=np.split(arr1,2)\n",
    "print(a)\n",
    "#it will split the array in 2 parts"
   ]
  },
  {
   "cell_type": "code",
   "execution_count": 10,
   "id": "9217f4c1",
   "metadata": {},
   "outputs": [
    {
     "name": "stdout",
     "output_type": "stream",
     "text": [
      "<class 'list'>\n"
     ]
    }
   ],
   "source": [
    "print(type(a))"
   ]
  },
  {
   "cell_type": "code",
   "execution_count": 11,
   "id": "feb1bbda",
   "metadata": {},
   "outputs": [
    {
     "name": "stdout",
     "output_type": "stream",
     "text": [
      "[array([[ 1],\n",
      "       [ 5],\n",
      "       [ 9],\n",
      "       [13]]), array([[ 2],\n",
      "       [ 6],\n",
      "       [10],\n",
      "       [14]]), array([[ 3],\n",
      "       [ 7],\n",
      "       [11],\n",
      "       [15]]), array([[ 4],\n",
      "       [ 8],\n",
      "       [12],\n",
      "       [16]])]\n"
     ]
    }
   ],
   "source": [
    "b=np.split(arr1,4,axis=1)\n",
    "print(b)\n",
    "#it will split the array in 4 parts in row wise"
   ]
  },
  {
   "cell_type": "markdown",
   "id": "c24ae0de",
   "metadata": {},
   "source": [
    "working with oneD array"
   ]
  },
  {
   "cell_type": "code",
   "execution_count": 12,
   "id": "ffadc450",
   "metadata": {},
   "outputs": [
    {
     "name": "stdout",
     "output_type": "stream",
     "text": [
      "[ 2  6 12  9]\n"
     ]
    }
   ],
   "source": [
    "d1=np.array([2,6,12,9])\n",
    "print(d1)"
   ]
  },
  {
   "cell_type": "code",
   "execution_count": 13,
   "id": "97e04e94",
   "metadata": {},
   "outputs": [
    {
     "data": {
      "text/plain": [
       "[array([2]), array([ 6, 12]), array([9])]"
      ]
     },
     "execution_count": 13,
     "metadata": {},
     "output_type": "execute_result"
    }
   ],
   "source": [
    "np.split(d1,[1,3])\n",
    "#it will split the d1 array in 3 parts as list of array\n",
    "#the first array wull hold all the values before 1  , second will hold the values before 3 and rest will be in last array"
   ]
  },
  {
   "cell_type": "code",
   "execution_count": null,
   "id": "d8b2bab0",
   "metadata": {},
   "outputs": [],
   "source": []
  }
 ],
 "metadata": {
  "kernelspec": {
   "display_name": "Python 3",
   "language": "python",
   "name": "python3"
  },
  "language_info": {
   "codemirror_mode": {
    "name": "ipython",
    "version": 3
   },
   "file_extension": ".py",
   "mimetype": "text/x-python",
   "name": "python",
   "nbconvert_exporter": "python",
   "pygments_lexer": "ipython3",
   "version": "3.9.1"
  }
 },
 "nbformat": 4,
 "nbformat_minor": 5
}
