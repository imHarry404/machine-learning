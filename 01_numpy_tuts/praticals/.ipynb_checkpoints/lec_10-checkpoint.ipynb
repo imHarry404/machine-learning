{
 "cells": [
  {
   "cell_type": "markdown",
   "id": "872a0151",
   "metadata": {},
   "source": [
    "# string operations, comparison and information"
   ]
  },
  {
   "cell_type": "code",
   "execution_count": 1,
   "id": "45ad809d",
   "metadata": {},
   "outputs": [],
   "source": [
    "import numpy as np"
   ]
  },
  {
   "cell_type": "code",
   "execution_count": 2,
   "id": "ae39d659",
   "metadata": {},
   "outputs": [],
   "source": [
    "name=\"harry\"\n",
    "message=\"hey how are you\""
   ]
  },
  {
   "cell_type": "markdown",
   "id": "234c8170",
   "metadata": {},
   "source": [
    "to create array using these variable, means string array"
   ]
  },
  {
   "cell_type": "code",
   "execution_count": 3,
   "id": "5ccf5cc1",
   "metadata": {},
   "outputs": [
    {
     "data": {
      "text/plain": [
       "array('harryhey how are you', dtype='<U20')"
      ]
     },
     "execution_count": 3,
     "metadata": {},
     "output_type": "execute_result"
    }
   ],
   "source": [
    "np.char.add(name,message) \n",
    "# it will give the count of char in array of tuple"
   ]
  },
  {
   "cell_type": "code",
   "execution_count": 4,
   "id": "28390369",
   "metadata": {},
   "outputs": [
    {
     "data": {
      "text/plain": [
       "array('harry', dtype='<U5')"
      ]
     },
     "execution_count": 4,
     "metadata": {},
     "output_type": "execute_result"
    }
   ],
   "source": [
    "np.char.lower(name)"
   ]
  },
  {
   "cell_type": "code",
   "execution_count": 5,
   "id": "6ea34296",
   "metadata": {},
   "outputs": [
    {
     "name": "stdout",
     "output_type": "stream",
     "text": [
      "HARRY\n",
      "<class 'numpy.ndarray'>\n"
     ]
    }
   ],
   "source": [
    "a=np.char.upper(name)\n",
    "print(a)\n",
    "print(type(a))"
   ]
  },
  {
   "cell_type": "markdown",
   "id": "3ff12b47",
   "metadata": {},
   "source": [
    "to put our string in center, we can put given char in its left or right to center our string"
   ]
  },
  {
   "cell_type": "code",
   "execution_count": 6,
   "id": "203a86c9",
   "metadata": {},
   "outputs": [
    {
     "data": {
      "text/plain": [
       "array('                      harry                       ', dtype='<U50')"
      ]
     },
     "execution_count": 6,
     "metadata": {},
     "output_type": "execute_result"
    }
   ],
   "source": [
    "np.char.center(name,50)"
   ]
  },
  {
   "cell_type": "code",
   "execution_count": 7,
   "id": "538b19f9",
   "metadata": {},
   "outputs": [
    {
     "data": {
      "text/plain": [
       "array('**********************harry***********************', dtype='<U50')"
      ]
     },
     "execution_count": 7,
     "metadata": {},
     "output_type": "execute_result"
    }
   ],
   "source": [
    "np.char.center(name,50,fillchar='*') #* will be filled in its left or right side"
   ]
  },
  {
   "cell_type": "code",
   "execution_count": 8,
   "id": "37a283f2",
   "metadata": {},
   "outputs": [],
   "source": [
    "a=\"this is python numpy tutorial\""
   ]
  },
  {
   "cell_type": "code",
   "execution_count": 9,
   "id": "5daed029",
   "metadata": {},
   "outputs": [
    {
     "data": {
      "text/plain": [
       "array('-----------------------------------this is python numpy tutorial------------------------------------',\n",
       "      dtype='<U100')"
      ]
     },
     "execution_count": 9,
     "metadata": {},
     "output_type": "execute_result"
    }
   ],
   "source": [
    "np.char.center(a,100,\"-\")"
   ]
  },
  {
   "cell_type": "markdown",
   "id": "8406845f",
   "metadata": {},
   "source": [
    "split-> the output will be array of list"
   ]
  },
  {
   "cell_type": "code",
   "execution_count": 10,
   "id": "ba35d414",
   "metadata": {},
   "outputs": [
    {
     "data": {
      "text/plain": [
       "array(list(['harry']), dtype=object)"
      ]
     },
     "execution_count": 10,
     "metadata": {},
     "output_type": "execute_result"
    }
   ],
   "source": [
    "np.char.split(name)"
   ]
  },
  {
   "cell_type": "code",
   "execution_count": 11,
   "id": "d4ba3e2b",
   "metadata": {},
   "outputs": [
    {
     "data": {
      "text/plain": [
       "array(list(['this', 'is', 'python', 'numpy', 'tutorial']), dtype=object)"
      ]
     },
     "execution_count": 11,
     "metadata": {},
     "output_type": "execute_result"
    }
   ],
   "source": [
    "np.char.split(a) # it will split every word  using , in a list of array"
   ]
  },
  {
   "cell_type": "code",
   "execution_count": 12,
   "id": "3e11f8f5",
   "metadata": {},
   "outputs": [
    {
     "data": {
      "text/plain": [
       "array(list(['hello', 'everyone', 'this', 'is', 'harry']), dtype=object)"
      ]
     },
     "execution_count": 12,
     "metadata": {},
     "output_type": "execute_result"
    }
   ],
   "source": [
    "np.char.split(\"hello everyone this is harry\") #it will split every single word"
   ]
  },
  {
   "cell_type": "code",
   "execution_count": 13,
   "id": "2962a04a",
   "metadata": {},
   "outputs": [
    {
     "data": {
      "text/plain": [
       "array(list(['hello everyone this is harry']), dtype=object)"
      ]
     },
     "execution_count": 13,
     "metadata": {},
     "output_type": "execute_result"
    }
   ],
   "source": [
    "np.char.splitlines(\"hello everyone this is harry\") # it will create a array of single element"
   ]
  },
  {
   "cell_type": "markdown",
   "id": "ba513b8e",
   "metadata": {},
   "source": [
    "joining the two list using given seperator"
   ]
  },
  {
   "cell_type": "code",
   "execution_count": 14,
   "id": "3e1bf8c9",
   "metadata": {},
   "outputs": [],
   "source": [
    "a=\"hello\"\n",
    "b='boy'"
   ]
  },
  {
   "cell_type": "code",
   "execution_count": 15,
   "id": "91cb5a0d",
   "metadata": {},
   "outputs": [
    {
     "data": {
      "text/plain": [
       "array(['h:e:l:l:o', 'b/o/y'], dtype='<U9')"
      ]
     },
     "execution_count": 15,
     "metadata": {},
     "output_type": "execute_result"
    }
   ],
   "source": [
    "np.char.join([\":\",\"/\"],[a,b])\n",
    "# first string will be seperated by : and second will be seperated using /"
   ]
  },
  {
   "cell_type": "code",
   "execution_count": 16,
   "id": "ff222bd3",
   "metadata": {},
   "outputs": [
    {
     "name": "stdout",
     "output_type": "stream",
     "text": [
      "this is harry\n",
      "this is hariom\n"
     ]
    }
   ],
   "source": [
    "# np.char.replace(var_name,'old_word','new_word')\n",
    "str=\"this is harry\"\n",
    "print(str)\n",
    "b=np.char.replace(str,'harry','hariom')\n",
    "print(b)"
   ]
  },
  {
   "cell_type": "code",
   "execution_count": 17,
   "id": "1fcf0870",
   "metadata": {},
   "outputs": [
    {
     "name": "stdout",
     "output_type": "stream",
     "text": [
      "this is harry and harry is a good boy\n",
      "this is hariom and hariom is a good boy\n"
     ]
    }
   ],
   "source": [
    "str=\"this is harry and harry is a good boy\"\n",
    "print(str)\n",
    "b=np.char.replace(str,'harry','hariom') #all harry will be replaced by hariom\n",
    "print(b)"
   ]
  },
  {
   "cell_type": "markdown",
   "id": "46e408d6",
   "metadata": {},
   "source": [
    "comparison"
   ]
  },
  {
   "cell_type": "code",
   "execution_count": 18,
   "id": "65b3ca6d",
   "metadata": {},
   "outputs": [],
   "source": [
    "a=\"hello\"\n",
    "b='hi'\n",
    "c='hello'"
   ]
  },
  {
   "cell_type": "code",
   "execution_count": 19,
   "id": "2d0fc5d6",
   "metadata": {},
   "outputs": [
    {
     "data": {
      "text/plain": [
       "array(False)"
      ]
     },
     "execution_count": 19,
     "metadata": {},
     "output_type": "execute_result"
    }
   ],
   "source": [
    "np.char.equal(a,b)"
   ]
  },
  {
   "cell_type": "code",
   "execution_count": 20,
   "id": "46b3c401",
   "metadata": {},
   "outputs": [
    {
     "data": {
      "text/plain": [
       "array(True)"
      ]
     },
     "execution_count": 20,
     "metadata": {},
     "output_type": "execute_result"
    }
   ],
   "source": [
    "np.char.not_equal(a,b)"
   ]
  },
  {
   "cell_type": "code",
   "execution_count": 21,
   "id": "467b6b86",
   "metadata": {},
   "outputs": [
    {
     "data": {
      "text/plain": [
       "array(True)"
      ]
     },
     "execution_count": 21,
     "metadata": {},
     "output_type": "execute_result"
    }
   ],
   "source": [
    "np.char.equal(a,c)"
   ]
  },
  {
   "cell_type": "code",
   "execution_count": 22,
   "id": "8c7d9cd6",
   "metadata": {},
   "outputs": [],
   "source": [
    "#it is case sensative\n",
    "d=\"Hello\""
   ]
  },
  {
   "cell_type": "code",
   "execution_count": 23,
   "id": "39064acc",
   "metadata": {},
   "outputs": [
    {
     "name": "stdout",
     "output_type": "stream",
     "text": [
      "hello\n",
      "Hello\n"
     ]
    },
    {
     "data": {
      "text/plain": [
       "array(False)"
      ]
     },
     "execution_count": 23,
     "metadata": {},
     "output_type": "execute_result"
    }
   ],
   "source": [
    "print(a)\n",
    "print(d)\n",
    "np.char.equal(a,d)"
   ]
  },
  {
   "cell_type": "code",
   "execution_count": 24,
   "id": "e69c34ab",
   "metadata": {},
   "outputs": [
    {
     "data": {
      "text/plain": [
       "array(True)"
      ]
     },
     "execution_count": 24,
     "metadata": {},
     "output_type": "execute_result"
    }
   ],
   "source": [
    "np.char.less(a,b) #it given comarision by length of the char in the variable"
   ]
  },
  {
   "cell_type": "markdown",
   "id": "963d30f7",
   "metadata": {},
   "source": [
    "information"
   ]
  },
  {
   "cell_type": "code",
   "execution_count": 25,
   "id": "da767a61",
   "metadata": {},
   "outputs": [
    {
     "data": {
      "text/plain": [
       "'hey how are you'"
      ]
     },
     "execution_count": 25,
     "metadata": {},
     "output_type": "execute_result"
    }
   ],
   "source": [
    "message"
   ]
  },
  {
   "cell_type": "code",
   "execution_count": 26,
   "id": "bb7895d2",
   "metadata": {},
   "outputs": [],
   "source": [
    "#count is used to find how many times a given char is present in a string"
   ]
  },
  {
   "cell_type": "code",
   "execution_count": 27,
   "id": "5e180282",
   "metadata": {},
   "outputs": [
    {
     "data": {
      "text/plain": [
       "array(1)"
      ]
     },
     "execution_count": 27,
     "metadata": {},
     "output_type": "execute_result"
    }
   ],
   "source": [
    "np.char.count(message,'a') #this is also case sensative"
   ]
  },
  {
   "cell_type": "code",
   "execution_count": 28,
   "id": "9ebc195e",
   "metadata": {},
   "outputs": [
    {
     "data": {
      "text/plain": [
       "array(8)"
      ]
     },
     "execution_count": 28,
     "metadata": {},
     "output_type": "execute_result"
    }
   ],
   "source": [
    "np.char.find(message,'a') #this will give the index of first match of given word in the var, it is also case sensative"
   ]
  },
  {
   "cell_type": "code",
   "execution_count": null,
   "id": "1b3bd120",
   "metadata": {},
   "outputs": [],
   "source": []
  }
 ],
 "metadata": {
  "kernelspec": {
   "display_name": "Python 3",
   "language": "python",
   "name": "python3"
  },
  "language_info": {
   "codemirror_mode": {
    "name": "ipython",
    "version": 3
   },
   "file_extension": ".py",
   "mimetype": "text/x-python",
   "name": "python",
   "nbconvert_exporter": "python",
   "pygments_lexer": "ipython3",
   "version": "3.9.1"
  }
 },
 "nbformat": 4,
 "nbformat_minor": 5
}
