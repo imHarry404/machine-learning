{
 "cells": [
  {
   "cell_type": "markdown",
   "id": "9fa0181e",
   "metadata": {},
   "source": [
    "# NumPy functions:"
   ]
  },
  {
   "cell_type": "code",
   "execution_count": 1,
   "id": "d8a13618",
   "metadata": {},
   "outputs": [],
   "source": [
    "import numpy as np"
   ]
  },
  {
   "cell_type": "markdown",
   "id": "3679e521",
   "metadata": {},
   "source": [
    "# arange()\n",
    "    it generates number betwwen given range"
   ]
  },
  {
   "cell_type": "code",
   "execution_count": 2,
   "id": "3458ae4e",
   "metadata": {},
   "outputs": [
    {
     "name": "stdout",
     "output_type": "stream",
     "text": [
      "[ 1  2  3  4  5  6  7  8  9 10 11 12]\n"
     ]
    }
   ],
   "source": [
    "#np.arange(start,end,steps)\n",
    "a=np.arange(1,13) #it will create oneD array from 1 to 12\n",
    "print(a)"
   ]
  },
  {
   "cell_type": "code",
   "execution_count": 3,
   "id": "a2c94870",
   "metadata": {},
   "outputs": [
    {
     "name": "stdout",
     "output_type": "stream",
     "text": [
      "[ 2  4  6  8 10 12]\n"
     ]
    }
   ],
   "source": [
    "a=np.arange(2,13,2) #it will create oneD array from 2 to 12 with step 2\n",
    "print(a)"
   ]
  },
  {
   "cell_type": "markdown",
   "id": "50e670ea",
   "metadata": {},
   "source": [
    "# linespace()\n",
    "    it genrates n given number of same difference in given range"
   ]
  },
  {
   "cell_type": "code",
   "execution_count": 4,
   "id": "7d8413e9",
   "metadata": {},
   "outputs": [
    {
     "name": "stdout",
     "output_type": "stream",
     "text": [
      "[ 2.          2.16326531  2.32653061  2.48979592  2.65306122  2.81632653\n",
      "  2.97959184  3.14285714  3.30612245  3.46938776  3.63265306  3.79591837\n",
      "  3.95918367  4.12244898  4.28571429  4.44897959  4.6122449   4.7755102\n",
      "  4.93877551  5.10204082  5.26530612  5.42857143  5.59183673  5.75510204\n",
      "  5.91836735  6.08163265  6.24489796  6.40816327  6.57142857  6.73469388\n",
      "  6.89795918  7.06122449  7.2244898   7.3877551   7.55102041  7.71428571\n",
      "  7.87755102  8.04081633  8.20408163  8.36734694  8.53061224  8.69387755\n",
      "  8.85714286  9.02040816  9.18367347  9.34693878  9.51020408  9.67346939\n",
      "  9.83673469 10.        ]\n"
     ]
    }
   ],
   "source": [
    "# np.linspace(start,end,part)#jitna part denge utna start se end ke bich me equal difference \n",
    "#ka no generate hoga, default datatype is float\n",
    "a=np.linspace(2,10,50) #yha  2 se 10 ke bich me 50 no generate hoga with equal difference\n",
    "print(a)"
   ]
  },
  {
   "cell_type": "markdown",
   "id": "6d37e76a",
   "metadata": {},
   "source": [
    "# reshape()\n",
    "    it is used to convert  1d array to multidimensional array"
   ]
  },
  {
   "cell_type": "code",
   "execution_count": 5,
   "id": "51b5e764",
   "metadata": {},
   "outputs": [
    {
     "name": "stdout",
     "output_type": "stream",
     "text": [
      "[1 2 3 4 5 6]\n"
     ]
    }
   ],
   "source": [
    "arr_1D=np.array([1,2,3,4,5,6])\n",
    "print(arr_1D)"
   ]
  },
  {
   "cell_type": "markdown",
   "id": "04421186",
   "metadata": {},
   "source": [
    "converting this oneD array to 2d array"
   ]
  },
  {
   "cell_type": "code",
   "execution_count": 6,
   "id": "2710b2f0",
   "metadata": {},
   "outputs": [
    {
     "name": "stdout",
     "output_type": "stream",
     "text": [
      "[[1 2 3]\n",
      " [4 5 6]]\n"
     ]
    }
   ],
   "source": [
    "arr2D=arr_1D.reshape(2,3)\n",
    "print(arr2D)"
   ]
  },
  {
   "cell_type": "markdown",
   "id": "5d045d3a",
   "metadata": {},
   "source": [
    "converting this oneD array to 3d array\n"
   ]
  },
  {
   "cell_type": "code",
   "execution_count": 7,
   "id": "8a697acf",
   "metadata": {},
   "outputs": [
    {
     "name": "stdout",
     "output_type": "stream",
     "text": [
      "[[[1]\n",
      "  [2]\n",
      "  [3]]\n",
      "\n",
      " [[4]\n",
      "  [5]\n",
      "  [6]]]\n"
     ]
    }
   ],
   "source": [
    "arr3D=arr_1D.reshape(2,3,1)\n",
    "print(arr3D)"
   ]
  },
  {
   "cell_type": "markdown",
   "id": "37561eaf",
   "metadata": {},
   "source": [
    "# ravel()\n",
    "    it is used to convert multidimensional array to 1d array"
   ]
  },
  {
   "cell_type": "code",
   "execution_count": 8,
   "id": "17cbf65f",
   "metadata": {},
   "outputs": [
    {
     "name": "stdout",
     "output_type": "stream",
     "text": [
      "[1 2 3 4 5 6]\n"
     ]
    }
   ],
   "source": [
    "arr=arr3D.ravel()\n",
    "print(arr)"
   ]
  },
  {
   "cell_type": "markdown",
   "id": "95b1eb45",
   "metadata": {},
   "source": [
    "# flatten()\n",
    "    it is also used to convert multidimesnional array to oneD array|"
   ]
  },
  {
   "cell_type": "code",
   "execution_count": 9,
   "id": "160dc737",
   "metadata": {},
   "outputs": [
    {
     "name": "stdout",
     "output_type": "stream",
     "text": [
      "[1 2 3 4 5 6]\n"
     ]
    }
   ],
   "source": [
    "arr1=arr2D.flatten()\n",
    "print(arr1)"
   ]
  },
  {
   "cell_type": "markdown",
   "id": "ccb9fa24",
   "metadata": {},
   "source": [
    "# transpose()\n",
    "    it is used to convert row to column and column to row\n",
    "    T can also be used for transpose"
   ]
  },
  {
   "cell_type": "code",
   "execution_count": 10,
   "id": "3cb6390b",
   "metadata": {},
   "outputs": [
    {
     "data": {
      "text/plain": [
       "array([[1, 2, 3],\n",
       "       [4, 5, 6]])"
      ]
     },
     "execution_count": 10,
     "metadata": {},
     "output_type": "execute_result"
    }
   ],
   "source": [
    "arr2D"
   ]
  },
  {
   "cell_type": "code",
   "execution_count": 11,
   "id": "acafe146",
   "metadata": {},
   "outputs": [
    {
     "data": {
      "text/plain": [
       "array([[1, 4],\n",
       "       [2, 5],\n",
       "       [3, 6]])"
      ]
     },
     "execution_count": 11,
     "metadata": {},
     "output_type": "execute_result"
    }
   ],
   "source": [
    "arr2D.transpose()"
   ]
  },
  {
   "cell_type": "code",
   "execution_count": 12,
   "id": "acb08df0",
   "metadata": {},
   "outputs": [
    {
     "data": {
      "text/plain": [
       "array([[[1, 4],\n",
       "        [2, 5],\n",
       "        [3, 6]]])"
      ]
     },
     "execution_count": 12,
     "metadata": {},
     "output_type": "execute_result"
    }
   ],
   "source": [
    "arr3D.T"
   ]
  },
  {
   "cell_type": "code",
   "execution_count": null,
   "id": "9571c53b",
   "metadata": {},
   "outputs": [],
   "source": []
  }
 ],
 "metadata": {
  "kernelspec": {
   "display_name": "Python 3",
   "language": "python",
   "name": "python3"
  },
  "language_info": {
   "codemirror_mode": {
    "name": "ipython",
    "version": 3
   },
   "file_extension": ".py",
   "mimetype": "text/x-python",
   "name": "python",
   "nbconvert_exporter": "python",
   "pygments_lexer": "ipython3",
   "version": "3.9.1"
  }
 },
 "nbformat": 4,
 "nbformat_minor": 5
}
