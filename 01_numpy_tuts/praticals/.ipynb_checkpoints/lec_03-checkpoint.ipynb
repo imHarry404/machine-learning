{
 "cells": [
  {
   "cell_type": "code",
   "execution_count": 1,
   "id": "02a9455d",
   "metadata": {},
   "outputs": [],
   "source": [
    "import numpy as np"
   ]
  },
  {
   "cell_type": "code",
   "execution_count": 2,
   "id": "bc373c19",
   "metadata": {},
   "outputs": [],
   "source": [
    "#one's matrix"
   ]
  },
  {
   "cell_type": "code",
   "execution_count": 3,
   "id": "9c59c1b6",
   "metadata": {},
   "outputs": [
    {
     "name": "stdout",
     "output_type": "stream",
     "text": [
      "[1. 1. 1.]\n"
     ]
    }
   ],
   "source": [
    "ones=np.ones(3)\n",
    "print(ones) #default dtype is float"
   ]
  },
  {
   "cell_type": "code",
   "execution_count": 4,
   "id": "cc99da7a",
   "metadata": {},
   "outputs": [
    {
     "name": "stdout",
     "output_type": "stream",
     "text": [
      "[[1. 1. 1. 1. 1.]\n",
      " [1. 1. 1. 1. 1.]\n",
      " [1. 1. 1. 1. 1.]]\n"
     ]
    }
   ],
   "source": [
    "ones=np.ones((3,5))\n",
    "print(ones)"
   ]
  },
  {
   "cell_type": "code",
   "execution_count": 5,
   "id": "a3315ae6",
   "metadata": {},
   "outputs": [
    {
     "name": "stdout",
     "output_type": "stream",
     "text": [
      "[[1 1 1 1 1]\n",
      " [1 1 1 1 1]\n",
      " [1 1 1 1 1]]\n"
     ]
    }
   ],
   "source": [
    "ones=np.ones((3,5),dtype=int)\n",
    "print(ones)"
   ]
  },
  {
   "cell_type": "code",
   "execution_count": 6,
   "id": "36cf01f2",
   "metadata": {},
   "outputs": [
    {
     "name": "stdout",
     "output_type": "stream",
     "text": [
      "[['1' '1' '1' '1' '1']\n",
      " ['1' '1' '1' '1' '1']\n",
      " ['1' '1' '1' '1' '1']]\n"
     ]
    }
   ],
   "source": [
    "ones=np.ones((3,5),dtype=str)\n",
    "print(ones)"
   ]
  },
  {
   "cell_type": "code",
   "execution_count": 7,
   "id": "9309db94",
   "metadata": {},
   "outputs": [
    {
     "name": "stdout",
     "output_type": "stream",
     "text": [
      "[[ True  True  True  True  True]\n",
      " [ True  True  True  True  True]\n",
      " [ True  True  True  True  True]]\n"
     ]
    }
   ],
   "source": [
    "ones=np.ones((3,5),dtype=bool)\n",
    "print(ones)"
   ]
  },
  {
   "cell_type": "code",
   "execution_count": 8,
   "id": "10b956ea",
   "metadata": {},
   "outputs": [
    {
     "data": {
      "text/plain": [
       "15"
      ]
     },
     "execution_count": 8,
     "metadata": {},
     "output_type": "execute_result"
    }
   ],
   "source": [
    "ones.size"
   ]
  },
  {
   "cell_type": "code",
   "execution_count": 9,
   "id": "791a8dcc",
   "metadata": {},
   "outputs": [
    {
     "data": {
      "text/plain": [
       "(3, 5)"
      ]
     },
     "execution_count": 9,
     "metadata": {},
     "output_type": "execute_result"
    }
   ],
   "source": [
    "ones.shape"
   ]
  },
  {
   "cell_type": "code",
   "execution_count": 10,
   "id": "6c639e57",
   "metadata": {},
   "outputs": [],
   "source": [
    "#zeros matrix"
   ]
  },
  {
   "cell_type": "code",
   "execution_count": 11,
   "id": "a5a228af",
   "metadata": {},
   "outputs": [
    {
     "name": "stdout",
     "output_type": "stream",
     "text": [
      "[0. 0. 0. 0. 0.]\n"
     ]
    }
   ],
   "source": [
    "zero=np.zeros(5)\n",
    "print(zero)"
   ]
  },
  {
   "cell_type": "code",
   "execution_count": 12,
   "id": "4f364b6a",
   "metadata": {},
   "outputs": [
    {
     "name": "stdout",
     "output_type": "stream",
     "text": [
      "[[0. 0. 0. 0. 0.]\n",
      " [0. 0. 0. 0. 0.]\n",
      " [0. 0. 0. 0. 0.]]\n"
     ]
    }
   ],
   "source": [
    "zero=np.zeros((3,5))\n",
    "print(zero)"
   ]
  },
  {
   "cell_type": "code",
   "execution_count": 13,
   "id": "3ad96b7d",
   "metadata": {},
   "outputs": [
    {
     "name": "stdout",
     "output_type": "stream",
     "text": [
      "[[0 0 0 0 0]\n",
      " [0 0 0 0 0]\n",
      " [0 0 0 0 0]]\n"
     ]
    }
   ],
   "source": [
    "zero=np.zeros((3,5),dtype=int)\n",
    "print(zero)"
   ]
  },
  {
   "cell_type": "code",
   "execution_count": 14,
   "id": "17f0fe0e",
   "metadata": {},
   "outputs": [
    {
     "name": "stdout",
     "output_type": "stream",
     "text": [
      "[['' '' '' '' '']\n",
      " ['' '' '' '' '']\n",
      " ['' '' '' '' '']]\n"
     ]
    }
   ],
   "source": [
    "zero=np.zeros((3,5),dtype=str)\n",
    "print(zero)"
   ]
  },
  {
   "cell_type": "code",
   "execution_count": 15,
   "id": "b5f85ef3",
   "metadata": {},
   "outputs": [
    {
     "name": "stdout",
     "output_type": "stream",
     "text": [
      "[[False False False False False]\n",
      " [False False False False False]\n",
      " [False False False False False]]\n"
     ]
    }
   ],
   "source": [
    "zero=np.zeros((3,5),dtype=bool)\n",
    "print(zero)"
   ]
  },
  {
   "cell_type": "code",
   "execution_count": 16,
   "id": "e3372d76",
   "metadata": {},
   "outputs": [],
   "source": [
    "#empty matrix"
   ]
  },
  {
   "cell_type": "code",
   "execution_count": 17,
   "id": "0e00440b",
   "metadata": {},
   "outputs": [
    {
     "name": "stdout",
     "output_type": "stream",
     "text": [
      "[0. 0. 0. 0. 0.]\n"
     ]
    }
   ],
   "source": [
    "empty=np.empty(5)\n",
    "print(empty)"
   ]
  },
  {
   "cell_type": "code",
   "execution_count": 18,
   "id": "3c5fdbba",
   "metadata": {},
   "outputs": [
    {
     "name": "stdout",
     "output_type": "stream",
     "text": [
      "[[0.00000000e+000 0.00000000e+000 0.00000000e+000]\n",
      " [0.00000000e+000 0.00000000e+000 7.78647458e-321]\n",
      " [1.05675390e-311 1.05675390e-311 1.05708216e-311]]\n"
     ]
    }
   ],
   "source": [
    "empty=np.empty((3,3))\n",
    "print(empty) #it will print random values"
   ]
  },
  {
   "cell_type": "code",
   "execution_count": 19,
   "id": "ce6e4eaf",
   "metadata": {},
   "outputs": [
    {
     "name": "stdout",
     "output_type": "stream",
     "text": [
      "[[      0       1       0]\n",
      " [7077985    1132       0]\n",
      " [    768     498 6029427]]\n"
     ]
    }
   ],
   "source": [
    "empty=np.empty((3,3),dtype=int)\n",
    "print(empty) #it will print random values"
   ]
  },
  {
   "cell_type": "code",
   "execution_count": 20,
   "id": "3a244062",
   "metadata": {},
   "outputs": [
    {
     "name": "stdout",
     "output_type": "stream",
     "text": [
      "[['' '' '']\n",
      " ['' '' '']\n",
      " ['' '' '']]\n"
     ]
    }
   ],
   "source": [
    "empty=np.empty((3,3),dtype=str)\n",
    "print(empty) #it will print random values"
   ]
  },
  {
   "cell_type": "code",
   "execution_count": 21,
   "id": "fc6eac3c",
   "metadata": {},
   "outputs": [
    {
     "name": "stdout",
     "output_type": "stream",
     "text": [
      "[[False False False]\n",
      " [False False  True]\n",
      " [ True  True  True]]\n"
     ]
    }
   ],
   "source": [
    "empty=np.empty((3,3),dtype=bool)\n",
    "print(empty) #it will print random values"
   ]
  },
  {
   "cell_type": "code",
   "execution_count": null,
   "id": "5038665b",
   "metadata": {},
   "outputs": [],
   "source": []
  }
 ],
 "metadata": {
  "kernelspec": {
   "display_name": "Python 3",
   "language": "python",
   "name": "python3"
  },
  "language_info": {
   "codemirror_mode": {
    "name": "ipython",
    "version": 3
   },
   "file_extension": ".py",
   "mimetype": "text/x-python",
   "name": "python",
   "nbconvert_exporter": "python",
   "pygments_lexer": "ipython3",
   "version": "3.9.1"
  }
 },
 "nbformat": 4,
 "nbformat_minor": 5
}
